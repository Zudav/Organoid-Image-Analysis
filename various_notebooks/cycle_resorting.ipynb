{
 "cells": [
  {
   "cell_type": "markdown",
   "metadata": {},
   "source": [
    "This script is used to sort the images such that within one cycle folder all wells have the same antibodies.  \n",
    "Files are first moved to a \"temp\" folder (`dir_temp`) and from there moved back into the original folder but into the right order, specified by `AB_set_order_permuted`. The temp folder can be removed manually once resorting is complete.  \n",
    "To check the AB orders of individual wells, `dir_AB` specifies the path to a file containing this information. This .txt file contains three columns (\"ID\", \"AB-order\", \"well\") but technically the \"ID\" well is not required for this notebook to work."
   ]
  },
  {
   "cell_type": "code",
   "execution_count": 6,
   "metadata": {},
   "outputs": [],
   "source": [
    "from pathlib import Path\n",
    "import pandas as pd"
   ]
  },
  {
   "cell_type": "code",
   "execution_count": 18,
   "metadata": {},
   "outputs": [],
   "source": [
    "## Define parameters for this experiment\n",
    "\n",
    "experiment_name = \"plate14\"\n",
    "\n",
    "# Create dictionary for cycle name conversion (plate14: cycle21 last in both orders so we can ignore it here)\n",
    "cycles_before = [\"cycle{}\".format(n) for n in range(1,21)]  # Folder the images are now in (cycle1 - cycle20)\n",
    "AB_set_order_permuted = [6,5,3,7,2,4,1,14,13,9,10,12,11,8,18,15,20,17,19,16]  # Actual order, i.e. cycle1 should actually be cycle6, cycle2 should be cycle5 etc.\n",
    "cycles_after = [\"cycle{}\".format(n) for n in AB_set_order_permuted]\n",
    "cycle_dict = dict(zip(cycles_before, cycles_after))  # Images will be moved from key cycle to value cycle\n",
    "\n",
    "nchan = 4  # number of channels/images per well\n",
    "\n",
    "# Path to input folder\n",
    "dir_in = Path(r\"/links/groups/treutlein/DATA/imaging/PW/4i/plate14_aligned_UZH\")\n",
    "# Path to temp folder\n",
    "dir_temp = Path(str(dir_in)+\"_temp\")\n",
    "# Path to file containing AB orders of wells\n",
    "dir_AB = Path(r\"/links/groups/treutlein/DATA/imaging/PW/4i/plate14/accessory_data/ID_ABorder_well.txt\")"
   ]
  },
  {
   "cell_type": "code",
   "execution_count": 3,
   "metadata": {},
   "outputs": [],
   "source": [
    "# Load AB order table\n",
    "AB_df = pd.read_csv(dir_AB)\n",
    "# Remove rows with missing values/wells\n",
    "AB_df.dropna(inplace=True)\n",
    "# Only keep the wells with AB order 2 (permuted order)\n",
    "AB_df = AB_df[AB_df[\"AB-order\"] == 2]\n",
    "# Create a list from remaining well names\n",
    "well_names = AB_df[\"well\"]"
   ]
  },
  {
   "cell_type": "code",
   "execution_count": 4,
   "metadata": {
    "scrolled": true
   },
   "outputs": [
    {
     "name": "stdout",
     "output_type": "stream",
     "text": [
      "cycle1 -> cycle6\n",
      "cycle2 -> cycle5\n",
      "cycle3 -> cycle3\n",
      "cycle4 -> cycle7\n",
      "cycle5 -> cycle2\n",
      "cycle6 -> cycle4\n",
      "cycle7 -> cycle1\n",
      "cycle8 -> cycle14\n",
      "cycle9 -> cycle13\n",
      "cycle10 -> cycle9\n",
      "cycle11 -> cycle10\n",
      "cycle12 -> cycle12\n",
      "cycle13 -> cycle11\n",
      "cycle14 -> cycle8\n",
      "cycle15 -> cycle18\n",
      "cycle16 -> cycle15\n",
      "cycle17 -> cycle20\n",
      "cycle18 -> cycle17\n",
      "cycle19 -> cycle19\n",
      "cycle20 -> cycle16\n"
     ]
    }
   ],
   "source": [
    "# Move all relevant files to a temp folder\n",
    "print(\"Moving files to temp folder...\")\n",
    "for cycle_old, cycle_new in cycle_dict.items():\n",
    "    print(\"{} -> {}\".format(cycle_old, cycle_new))\n",
    "    # Create folder for cycle in output directory\n",
    "    Path(dir_temp/cycle_new).mkdir(parents=True, exist_ok=True)\n",
    "    for well in well_names:\n",
    "        #print(well)\n",
    "        for chan in range(1, nchan+1):\n",
    "            filename = \"{}_{}_C{:02d}.png\".format(experiment_name, well, chan)\n",
    "            file_old = dir_in/cycle_old/filename\n",
    "            file_new = dir_temp/cycle_new/filename\n",
    "            # If output file already exists, skip ahead\n",
    "            if file_new.is_file():\n",
    "                print(\"File at destination already exists\")\n",
    "                continue\n",
    "            try:\n",
    "                # Move file to new location\n",
    "                file_old.rename(str(file_new))\n",
    "            except FileNotFoundError:\n",
    "                print(\"{} well {} not found\".format(cycle_old, well))"
   ]
  },
  {
   "cell_type": "code",
   "execution_count": 7,
   "metadata": {},
   "outputs": [
    {
     "name": "stdout",
     "output_type": "stream",
     "text": [
      "Moving files from temp folder to right cycle in original folder\n"
     ]
    }
   ],
   "source": [
    "# Move files from temp folder back to input folder but into the right cycle\n",
    "print(\"Moving files from temp folder to right cycle in original folder\")\n",
    "for cycle in cycle_dict:\n",
    "    print(cycle)\n",
    "    # Get all files in folder\n",
    "    files = Path(dir_temp/cycle).glob(\"*.png\")\n",
    "    for file in files:\n",
    "        name = file.name  # filename\n",
    "        # Get paths to file in temp folder and to its destination\n",
    "        file_old = dir_temp/cycle/name\n",
    "        file_new = dir_in/cycle/name\n",
    "        # If output file already exists, skip ahead\n",
    "        if file_new.is_file():\n",
    "            Print(\"File at destination already exists\")\n",
    "            continue\n",
    "        try:\n",
    "            # Move file to new location\n",
    "            file_old.rename(str(file_new))\n",
    "        except FileNotFoundError:\n",
    "            print(\"{} well {} not found\".format(cycle, well))"
   ]
  }
 ],
 "metadata": {
  "kernelspec": {
   "display_name": "Python [conda env:env_skimage]",
   "language": "python",
   "name": "conda-env-env_skimage-py"
  },
  "language_info": {
   "codemirror_mode": {
    "name": "ipython",
    "version": 3
   },
   "file_extension": ".py",
   "mimetype": "text/x-python",
   "name": "python",
   "nbconvert_exporter": "python",
   "pygments_lexer": "ipython3",
   "version": "3.7.7"
  }
 },
 "nbformat": 4,
 "nbformat_minor": 4
}
