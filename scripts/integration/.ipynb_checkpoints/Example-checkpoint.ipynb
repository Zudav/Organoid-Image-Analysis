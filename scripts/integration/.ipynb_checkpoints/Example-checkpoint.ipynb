{
 "cells": [
  {
   "cell_type": "code",
   "execution_count": 8,
   "metadata": {},
   "outputs": [
    {
     "ename": "ModuleNotFoundError",
     "evalue": "No module named 'Paths'",
     "output_type": "error",
     "traceback": [
      "\u001b[0;31m---------------------------------------------------------------------------\u001b[0m",
      "\u001b[0;31mModuleNotFoundError\u001b[0m                       Traceback (most recent call last)",
      "\u001b[0;32m<ipython-input-8-29dccf347cb4>\u001b[0m in \u001b[0;36m<module>\u001b[0;34m\u001b[0m\n\u001b[1;32m      5\u001b[0m \u001b[0;34m\u001b[0m\u001b[0m\n\u001b[1;32m      6\u001b[0m \u001b[0;32mimport\u001b[0m \u001b[0myaml\u001b[0m\u001b[0;34m\u001b[0m\u001b[0;34m\u001b[0m\u001b[0m\n\u001b[0;32m----> 7\u001b[0;31m \u001b[0;32mimport\u001b[0m \u001b[0mPaths\u001b[0m \u001b[0;31m#all kinds of paths, image paths are functions with default variables plate = \"plate6\", cycle = 'cycle1'; aligned_images_path has no variable 'cylce'.\u001b[0m\u001b[0;34m\u001b[0m\u001b[0;34m\u001b[0m\u001b[0m\n\u001b[0m\u001b[1;32m      8\u001b[0m \u001b[0;34m\u001b[0m\u001b[0m\n\u001b[1;32m      9\u001b[0m \u001b[0;31m#load parameters\u001b[0m\u001b[0;34m\u001b[0m\u001b[0;34m\u001b[0m\u001b[0;34m\u001b[0m\u001b[0m\n",
      "\u001b[0;31mModuleNotFoundError\u001b[0m: No module named 'Paths'"
     ]
    }
   ],
   "source": [
    "#start all integration scripts like this\n",
    "#set PYTHONPATH; in ~/.bashrc add below last line: export PYTHONPATH=/home/<your username>/Organoid-Image-Analysis/scripts/modules\n",
    "import sys\n",
    "sys.path.append('/home/pwahle/Organoid-Image-Analysis/scripts/modules')\n",
    "\n",
    "import yaml \n",
    "import Paths #all kinds of paths, image paths are functions with default variables plate = \"plate6\", cycle = 'cycle1'; aligned_images_path has no variable 'cylce'. \n",
    "\n",
    "#load parameters\n",
    "with open(\"../../params.yml\", 'r') as ymlfile: \n",
    "    cfg = yaml.load(ymlfile, Loader=yaml.FullLoader)\n",
    "    \n",
    "globals().update(cfg) # optional, 'activates' all parameters\n",
    "\n",
    "#e.g.\n",
    "\n",
    "print(cfg)\n",
    "\n",
    "Alignment_ref"
   ]
  },
  {
   "cell_type": "code",
   "execution_count": 4,
   "metadata": {},
   "outputs": [
    {
     "data": {
      "text/plain": [
       "{'Alignment_ref': 1, 'no_cycles': 20, 'no_tiles': 25}"
      ]
     },
     "execution_count": 4,
     "metadata": {},
     "output_type": "execute_result"
    }
   ],
   "source": [
    "'''\n",
    "recent changes to modules often don't take effect because they are loaded from cache. To get recent changes in imorted modules do:\n",
    "import imp\n",
    "imp.reload(module)\n",
    "'''"
   ]
  },
  {
   "cell_type": "code",
   "execution_count": null,
   "metadata": {},
   "outputs": [],
   "source": []
  }
 ],
 "metadata": {
  "kernelspec": {
   "display_name": "Python 3",
   "language": "python",
   "name": "python3"
  },
  "language_info": {
   "codemirror_mode": {
    "name": "ipython",
    "version": 3
   },
   "file_extension": ".py",
   "mimetype": "text/x-python",
   "name": "python",
   "nbconvert_exporter": "python",
   "pygments_lexer": "ipython3",
   "version": "3.7.4"
  }
 },
 "nbformat": 4,
 "nbformat_minor": 4
}
