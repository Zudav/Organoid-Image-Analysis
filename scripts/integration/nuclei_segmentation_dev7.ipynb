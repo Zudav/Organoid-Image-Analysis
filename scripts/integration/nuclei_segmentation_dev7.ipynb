{
 "cells": [
  {
   "cell_type": "code",
   "execution_count": 3,
   "metadata": {},
   "outputs": [],
   "source": [
    "#start all integration scripts like this\n",
    "\n",
    "import sys\n",
    "sys.path.append('/home/pwahle/Organoid-Image-Analysis/scripts/modules')\n",
    "#alternative to sys.append('...'):\n",
    "#set PYTHONPATH; in ~/.bashrc add below last line: export PYTHONPATH=/home/<your username>/Organoid-Image-Analysis/scripts/modules\n",
    "#this option doesn't work for me.\n",
    "\n",
    "import yaml \n",
    "import Paths #all kinds of paths, image paths are functions with default variables plate = \"plate6\", cycle = 'cycle1'; aligned_images_path has no variable 'cylce'. \n",
    "\n",
    "\n",
    "#load parameters\n",
    "with open(\"../../params.yml\", 'r') as ymlfile: \n",
    "    cfg = yaml.load(ymlfile, Loader=yaml.FullLoader)\n",
    "    \n",
    "globals().update(cfg) # optional, 'activates' all parameters"
   ]
  },
  {
   "cell_type": "code",
   "execution_count": 2,
   "metadata": {},
   "outputs": [
    {
     "ename": "ModuleNotFoundError",
     "evalue": "No module named 'cv2'",
     "output_type": "error",
     "traceback": [
      "\u001b[0;31m---------------------------------------------------------------------------\u001b[0m",
      "\u001b[0;31mModuleNotFoundError\u001b[0m                       Traceback (most recent call last)",
      "\u001b[0;32m<ipython-input-2-c2aee030985e>\u001b[0m in \u001b[0;36m<module>\u001b[0;34m\u001b[0m\n\u001b[1;32m      3\u001b[0m \u001b[0;32mfrom\u001b[0m \u001b[0mskimage\u001b[0m \u001b[0;32mimport\u001b[0m \u001b[0mfilters\u001b[0m\u001b[0;34m\u001b[0m\u001b[0;34m\u001b[0m\u001b[0m\n\u001b[1;32m      4\u001b[0m \u001b[0;32mimport\u001b[0m \u001b[0mos\u001b[0m\u001b[0;34m\u001b[0m\u001b[0;34m\u001b[0m\u001b[0m\n\u001b[0;32m----> 5\u001b[0;31m \u001b[0;32mimport\u001b[0m \u001b[0mcv2\u001b[0m \u001b[0;32mas\u001b[0m \u001b[0mcv\u001b[0m\u001b[0;34m\u001b[0m\u001b[0;34m\u001b[0m\u001b[0m\n\u001b[0m\u001b[1;32m      6\u001b[0m \u001b[0;32mimport\u001b[0m \u001b[0mnumpy\u001b[0m \u001b[0;32mas\u001b[0m \u001b[0mnp\u001b[0m\u001b[0;34m\u001b[0m\u001b[0;34m\u001b[0m\u001b[0m\n\u001b[1;32m      7\u001b[0m \u001b[0;32mimport\u001b[0m \u001b[0mmatplotlib\u001b[0m\u001b[0;34m\u001b[0m\u001b[0;34m\u001b[0m\u001b[0m\n",
      "\u001b[0;31mModuleNotFoundError\u001b[0m: No module named 'cv2'"
     ]
    }
   ],
   "source": [
    "from skimage import io\n",
    "from matplotlib import pyplot as plt\n",
    "from skimage import filters\n",
    "import os\n",
    "#import cv2 as cv\n",
    "import numpy as np\n",
    "import matplotlib\n",
    "from skimage.filters import threshold_otsu\n",
    "from skimage.filters import threshold_multiotsu\n",
    "import copy\n",
    "from skimage.feature import blob_log\n",
    "import toolz\n",
    "import imp\n",
    "import imageio\n",
    "import Example\n",
    "\n",
    "\n",
    "\n",
    "folder = Paths.aligned_images_path() + \"/MAX_Time00000_Point0000_Point00{ii}_ChannelSCF_SD\"\n",
    "\n",
    "\n",
    "\n",
    "mem = io.imread(folder + \"/cycles/cycle1_aligned.tif\")\n",
    "membrane = mem[...,1]\n",
    "membrane_sub = mem[2000:3000,2000:3000,0:3].astype('int8')\n",
    "dapi = io.imread(folder + \"/cycles/cycle1_aligned.tif\")[...,2]\n",
    "#dapi = dapi[2000:3000, 2000:3000]\n",
    "safe = copy.deepcopy(dapi)\n",
    "#dapi = cv.cvtColor(dapi.astype('uint8'), cv.COLOR_GRAY2BGR)\n",
    "\n",
    "segmented_normal = io.imread(folder + \"/dapi_mask.tif\") # to generate this use Example.initial_segment(dapi = dapi, membrane = membrane)\n",
    "segmented_log = io.imread(folder + \"/dapi_mask_log_membrane.tif\") #to generate this use Example.initial_segment(dapi = dapi, membrane = np.log(membrane))\n",
    "\n",
    "subtracted = Example.subtract_membrane(dapi, membrane)\n",
    "\n",
    "\n",
    "\n",
    "#io.imsave(folder + '/subtracted.tif', subtracted.astype('uint16'))"
   ]
  },
  {
   "cell_type": "code",
   "execution_count": 4,
   "metadata": {},
   "outputs": [
    {
     "data": {
      "text/plain": [
       "'imp.reload(Example)\\n\\ntestdapi = dapi[2000:3000,2000:3000]\\ntestmembrane = membrane[2000:3000,2000:3000]\\ntestimage = Example.initial_segment(dapi = testdapi, membrane = testmembrane)'"
      ]
     },
     "execution_count": 4,
     "metadata": {},
     "output_type": "execute_result"
    }
   ],
   "source": [
    "'''imp.reload(Example)\n",
    "\n",
    "testdapi = dapi[2000:3000,2000:3000]\n",
    "testmembrane = membrane[2000:3000,2000:3000]\n",
    "testimage = Example.initial_segment(dapi = testdapi, membrane = testmembrane)'''"
   ]
  },
  {
   "cell_type": "code",
   "execution_count": 5,
   "metadata": {},
   "outputs": [
    {
     "data": {
      "image/png": "[encoded data removed]",
      "text/plain": [
       "<Figure size 1440x1440 with 2 Axes>"
      ]
     },
     "metadata": {
      "needs_background": "light"
     },
     "output_type": "display_data"
    }
   ],
   "source": [
    "testimage = segmented_log[2000:3000,2000:3000]\n",
    "\n",
    "\n",
    "bintestimage = np.where(testimage>0.5, 1000, 0)\n",
    "bintestimage = np.uint8(bintestimage)\n",
    "\n",
    "contour,hier = cv.findContours(bintestimage,cv.RETR_CCOMP,cv.CHAIN_APPROX_SIMPLE)\n",
    "\n",
    "for cnt in contour:\n",
    "    cv.drawContours(bintestimage,[cnt],0,255,-1)\n",
    "    \n",
    "#kernel = np.ones((3,3),np.uint8)\n",
    "kernel = cv.getStructuringElement(cv.MORPH_ELLIPSE,(3,3))\n",
    "opening = cv.morphologyEx(bintestimage,cv.MORPH_OPEN, kernel, iterations = 2)\n",
    "\n",
    "fig, ax = plt.subplots(1,2, figsize = (20,20))\n",
    "ax[0].imshow(testimage)\n",
    "ax[1].imshow(opening)\n",
    "plt.show()"
   ]
  },
  {
   "cell_type": "code",
   "execution_count": null,
   "metadata": {},
   "outputs": [],
   "source": [
    "\n"
   ]
  },
  {
   "cell_type": "code",
   "execution_count": 6,
   "metadata": {},
   "outputs": [
    {
     "ename": "error",
     "evalue": "OpenCV(4.2.0) /io/opencv/modules/imgproc/src/segmentation.cpp:161: error: (-215:Assertion failed) src.type() == CV_8UC3 && dst.type() == CV_32SC1 in function 'watershed'\n",
     "output_type": "error",
     "traceback": [
      "\u001b[0;31m---------------------------------------------------------------------------\u001b[0m",
      "\u001b[0;31merror\u001b[0m                                     Traceback (most recent call last)",
      "\u001b[0;32m<ipython-input-6-e177ef65d9a7>\u001b[0m in \u001b[0;36m<module>\u001b[0;34m()\u001b[0m\n\u001b[1;32m     21\u001b[0m     \u001b[0mmarkers\u001b[0m \u001b[0;34m=\u001b[0m \u001b[0mmarkers\u001b[0m\u001b[0;34m.\u001b[0m\u001b[0mastype\u001b[0m\u001b[0;34m(\u001b[0m\u001b[0;34m'int32'\u001b[0m\u001b[0;34m)\u001b[0m\u001b[0;34m\u001b[0m\u001b[0;34m\u001b[0m\u001b[0m\n\u001b[1;32m     22\u001b[0m \u001b[0;34m\u001b[0m\u001b[0m\n\u001b[0;32m---> 23\u001b[0;31m     \u001b[0mmarkers\u001b[0m \u001b[0;34m=\u001b[0m \u001b[0mcv\u001b[0m\u001b[0;34m.\u001b[0m\u001b[0mwatershed\u001b[0m\u001b[0;34m(\u001b[0m\u001b[0mdapi\u001b[0m\u001b[0;34m,\u001b[0m \u001b[0mmarkers\u001b[0m\u001b[0;34m)\u001b[0m\u001b[0;34m\u001b[0m\u001b[0;34m\u001b[0m\u001b[0m\n\u001b[0m\u001b[1;32m     24\u001b[0m \u001b[0;34m\u001b[0m\u001b[0m\n\u001b[1;32m     25\u001b[0m     \u001b[0msafes\u001b[0m \u001b[0;34m=\u001b[0m \u001b[0mcopy\u001b[0m\u001b[0;34m.\u001b[0m\u001b[0mdeepcopy\u001b[0m\u001b[0;34m(\u001b[0m\u001b[0msafe\u001b[0m\u001b[0;34m)\u001b[0m\u001b[0;34m\u001b[0m\u001b[0;34m\u001b[0m\u001b[0m\n",
      "\u001b[0;31merror\u001b[0m: OpenCV(4.2.0) /io/opencv/modules/imgproc/src/segmentation.cpp:161: error: (-215:Assertion failed) src.type() == CV_8UC3 && dst.type() == CV_32SC1 in function 'watershed'\n"
     ]
    }
   ],
   "source": [
    "sure_bg = cv.dilate(opening, kernel, iterations = 10)\n",
    "\n",
    "dist_transform = cv.distanceTransform(opening, cv.DIST_L2, 3)\n",
    "\n",
    "\n",
    "for i in (np.arange(8)+1)/10:\n",
    "    \n",
    "    ret2, sure_fg = cv.threshold(dist_transform, i*dist_transform.max(), 255,0)\n",
    "\n",
    "    sure_fg = np.uint8(sure_fg)\n",
    "\n",
    "    unknown = cv.subtract(sure_bg, sure_fg)\n",
    "\n",
    "    ret3, markers = cv.connectedComponents(sure_fg)\n",
    "\n",
    "    markers = markers + 10\n",
    "\n",
    "    markers[unknown == 255] = 0\n",
    "\n",
    "\n",
    "    markers = markers.astype('int32')\n",
    "\n",
    "    markers = cv.watershed(dapi, markers)\n",
    "    \n",
    "    safes = copy.deepcopy(safe)\n",
    "    safes = safes.astype('int32')\n",
    "\n",
    "    safes[markers == -1] = 4000\n",
    "    \n",
    "    markers = (markers + 1) **2\n",
    "\n",
    "    fig, ax = plt.subplots(1,2, figsize = (20,20))\n",
    "    ax[0].imshow(safes)\n",
    "    ax[1].imshow(markers)\n",
    "    plt.figure(i+1)\n",
    "\n",
    "plt.show()"
   ]
  },
  {
   "cell_type": "code",
   "execution_count": null,
   "metadata": {},
   "outputs": [],
   "source": []
  }
 ],
 "metadata": {
  "kernelspec": {
   "display_name": "Python 3",
   "language": "python",
   "name": "python3"
  },
  "language_info": {
   "codemirror_mode": {
    "name": "ipython",
    "version": 3
   },
   "file_extension": ".py",
   "mimetype": "text/x-python",
   "name": "python",
   "nbconvert_exporter": "python",
   "pygments_lexer": "ipython3",
   "version": "3.7.4"
  }
 },
 "nbformat": 4,
 "nbformat_minor": 4
}
