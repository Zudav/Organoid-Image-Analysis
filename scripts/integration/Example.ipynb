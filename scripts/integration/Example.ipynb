{
 "cells": [
  {
   "cell_type": "code",
   "execution_count": 38,
   "metadata": {},
   "outputs": [],
   "source": [
    "#start all integration scripts like this\n",
    "\n",
    "import sys\n",
    "sys.path.append('/home/pwahle/Organoid-Image-Analysis/scripts/modules')\n",
    "#alternative to sys.append('...'):\n",
    "#set PYTHONPATH; in ~/.bashrc add below last line: export PYTHONPATH=/home/<your username>/Organoid-Image-Analysis/scripts/modules\n",
    "#this option doesn't work for me.\n",
    "\n",
    "import yaml \n",
    "import Paths #all kinds of paths, image paths are functions with default variables plate = \"plate6\", cycle = 'cycle1'; aligned_images_path has no variable 'cylce'. \n",
    "\n",
    "#load parameters\n",
    "with open(\"../../params.yml\", 'r') as ymlfile: \n",
    "    cfg = yaml.load(ymlfile, Loader=yaml.FullLoader)\n",
    "    \n",
    "globals().update(cfg) # optional, 'activates' all parameters\n",
    "\n"
   ]
  },
  {
   "cell_type": "code",
   "execution_count": 39,
   "metadata": {},
   "outputs": [
    {
     "name": "stdout",
     "output_type": "stream",
     "text": [
      "{'Alignment_ref': 1, 'no_cycles': 20, 'no_tiles': 25}\n"
     ]
    },
    {
     "data": {
      "text/plain": [
       "1"
      ]
     },
     "execution_count": 39,
     "metadata": {},
     "output_type": "execute_result"
    }
   ],
   "source": [
    "#e.g.\n",
    "\n",
    "print(cfg)\n",
    "\n",
    "Alignment_ref"
   ]
  },
  {
   "cell_type": "code",
   "execution_count": 40,
   "metadata": {},
   "outputs": [
    {
     "data": {
      "text/plain": [
       "\"\\nrecent changes to modules often don't take effect because they are loaded from cache. To get recent changes in imorted modules do:\\nimport imp\\nimp.reload(module)\\n\""
      ]
     },
     "execution_count": 40,
     "metadata": {},
     "output_type": "execute_result"
    }
   ],
   "source": [
    "'''\n",
    "recent changes to modules often don't take effect because they are loaded from cache. To get recent changes in imorted modules do:\n",
    "import imp\n",
    "imp.reload(module)\n",
    "'''"
   ]
  },
  {
   "cell_type": "code",
   "execution_count": null,
   "metadata": {},
   "outputs": [],
   "source": []
  }
 ],
 "metadata": {
  "kernelspec": {
   "display_name": "Python 3",
   "language": "python",
   "name": "python3"
  },
  "language_info": {
   "codemirror_mode": {
    "name": "ipython",
    "version": 3
   },
   "file_extension": ".py",
   "mimetype": "text/x-python",
   "name": "python",
   "nbconvert_exporter": "python",
   "pygments_lexer": "ipython3",
   "version": "3.7.4"
  }
 },
 "nbformat": 4,
 "nbformat_minor": 4
}
