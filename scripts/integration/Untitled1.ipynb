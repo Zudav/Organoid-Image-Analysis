{
 "cells": [
  {
   "cell_type": "code",
   "execution_count": 1,
   "metadata": {},
   "outputs": [
    {
     "name": "stderr",
     "output_type": "stream",
     "text": [
      "Using TensorFlow backend.\n"
     ]
    }
   ],
   "source": [
    "from __future__ import print_function, unicode_literals, absolute_import, division\n",
    "import sys\n",
    "import numpy as np\n",
    "import matplotlib.pyplot as plt\n",
    "%matplotlib inline\n",
    "%config InlineBackend.figure_format = 'retina'\n",
    "\n",
    "from glob import glob\n",
    "from tifffile import imread\n",
    "from csbdeep.utils import Path, normalize\n",
    "\n",
    "from stardist import random_label_cmap, _draw_polygons\n",
    "from stardist.models import StarDist2D\n",
    "\n",
    "np.random.seed(6)\n",
    "lbl_cmap = random_label_cmap()"
   ]
  },
  {
   "cell_type": "code",
   "execution_count": 2,
   "metadata": {},
   "outputs": [],
   "source": [
    "#---------#4idapi#--------#\n",
    "from skimage import io\n",
    "from skimage.filters import threshold_otsu\n",
    "import Paths\n",
    "\n",
    "folder = '/links/groups/treutlein/DATA/imaging/PW/4i/plate6/AlignedOrganoids/MAX_Time00000_Point0000_Point00{ii}_ChannelSCF_SD'\n",
    "\n",
    "\n",
    "\n",
    "membrane = io.imread(folder + \"/cycles/cycle1_aligned.tif\")[...,1]\n",
    "\n",
    "dapi = io.imread(folder + \"/cycles/cycle1_aligned.tif\")[...,2]\n",
    "\n",
    "def subtract_membrane(dapi, membrane):\n",
    "    dapi = scale_image(dapi)\n",
    "    membrane = scale_image(membrane)\n",
    "    tmp = dapi - membrane\n",
    "    tmp[tmp < 0] = 0\n",
    "    thresh = threshold_otsu(tmp)\n",
    "    tmp[tmp < thresh] = 0\n",
    "    return scale_image(tmp)\n",
    "\n",
    "def scale_image(image, percentile = 5):\n",
    "        return np.interp(image, (np.percentile(image,percentile), np.percentile(image,100 - percentile)), (0, +65535))\n",
    "\n",
    "subtracted = subtract_membrane(dapi, membrane)\n",
    "#subtracted = subtracted[500:1500,500:1500]"
   ]
  },
  {
   "cell_type": "code",
   "execution_count": 4,
   "metadata": {},
   "outputs": [
    {
     "ename": "NameError",
     "evalue": "name 'Paths' is not defined",
     "output_type": "error",
     "traceback": [
      "\u001b[0;31m---------------------------------------------------------------------------\u001b[0m",
      "\u001b[0;31mNameError\u001b[0m                                 Traceback (most recent call last)",
      "\u001b[0;32m<ipython-input-4-b584c2b5359a>\u001b[0m in \u001b[0;36m<module>\u001b[0;34m\u001b[0m\n\u001b[0;32m----> 1\u001b[0;31m \u001b[0mmodel_paper\u001b[0m \u001b[0;34m=\u001b[0m \u001b[0mStarDist2D\u001b[0m\u001b[0;34m(\u001b[0m\u001b[0;32mNone\u001b[0m\u001b[0;34m,\u001b[0m \u001b[0mname\u001b[0m\u001b[0;34m=\u001b[0m\u001b[0;34m'2D_dsb2018'\u001b[0m\u001b[0;34m,\u001b[0m \u001b[0mbasedir\u001b[0m\u001b[0;34m=\u001b[0m\u001b[0mPaths\u001b[0m\u001b[0;34m.\u001b[0m\u001b[0maccessory_data_path\u001b[0m \u001b[0;34m+\u001b[0m \u001b[0;34m'trained_CNN_stardist_paper/'\u001b[0m\u001b[0;34m)\u001b[0m\u001b[0;34m\u001b[0m\u001b[0;34m\u001b[0m\u001b[0m\n\u001b[0m",
      "\u001b[0;31mNameError\u001b[0m: name 'Paths' is not defined"
     ]
    }
   ],
   "source": [
    "model_paper = StarDist2D(None, name='2D_dsb2018', basedir=Paths.accessory_data_path + 'trained_CNN_stardist_paper/')"
   ]
  },
  {
   "cell_type": "code",
   "execution_count": null,
   "metadata": {},
   "outputs": [],
   "source": [
    "img = normalize(subtracted, 1,99.8, axis=axis_norm)\n",
    "labels, details = model_paper.predict_instances(img)\n",
    "\n",
    "fig, ax = plt.subplots(1,3,figsize=(20,20))\n",
    "ax[0].imshow(dapi)\n",
    "ax[1].imshow(subtracted)\n",
    "plt.axis('off')\n",
    "ax[2].imshow(img if img.ndim==2 else img[...,0], clim=(0,1), cmap='gray')\n",
    "ax[2].imshow(labels, cmap=lbl_cmap, alpha=0.5)\n",
    "plt.axis('off');"
   ]
  },
  {
   "cell_type": "code",
   "execution_count": null,
   "metadata": {},
   "outputs": [],
   "source": [
    "plt.figure(figsize = (30,30))\n",
    "plt.imshow(img if img.ndim==2 else img[...,0], clim=(0,1), cmap='gray')\n",
    "plt.imshow(labels, cmap=lbl_cmap, alpha=0.5)\n",
    "plt.axis('off')\n",
    "plt.show"
   ]
  }
 ],
 "metadata": {
  "kernelspec": {
   "display_name": "Python 3",
   "language": "python",
   "name": "python3"
  },
  "language_info": {
   "codemirror_mode": {
    "name": "ipython",
    "version": 3
   },
   "file_extension": ".py",
   "mimetype": "text/x-python",
   "name": "python",
   "nbconvert_exporter": "python",
   "pygments_lexer": "ipython3",
   "version": "3.6.10"
  }
 },
 "nbformat": 4,
 "nbformat_minor": 4
}
