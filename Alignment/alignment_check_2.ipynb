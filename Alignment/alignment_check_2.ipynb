{
 "cells": [
  {
   "cell_type": "markdown",
   "metadata": {},
   "source": [
    "Used to check the alignment of two cycles side by side as well as on top of each other in different colour channels. Using `%matplotlib widget` at the start allows for zooming around. **If images are on TissueMAPS this is useless because TM is much faster** "
   ]
  },
  {
   "cell_type": "code",
   "execution_count": 1,
   "metadata": {},
   "outputs": [],
   "source": [
    "%matplotlib widget\n",
    "\n",
    "import matplotlib.pyplot as plt\n",
    "import ipywidgets as widgets\n",
    "import numpy as np\n",
    "from skimage import io\n",
    "from pathlib import Path\n",
    "from skimage.exposure import rescale_intensity"
   ]
  },
  {
   "cell_type": "code",
   "execution_count": 2,
   "metadata": {},
   "outputs": [],
   "source": [
    "def rescale_image(img, min_quant=0, max_quant=0.99): \n",
    "    img = img * 1.0 # turn type to float before rescaling\n",
    "    min_val = np.quantile(img, min_quant)\n",
    "    max_val = np.quantile(img, max_quant)\n",
    "    img = rescale_intensity(img, in_range=(min_val, max_val))\n",
    "    return img"
   ]
  },
  {
   "cell_type": "code",
   "execution_count": 3,
   "metadata": {},
   "outputs": [],
   "source": [
    "# Create list with all the points\n",
    "well = \"A04\"\n",
    "\n",
    "# Specify cycles and stains\n",
    "img_dict = {\n",
    "    \"cycle1\": 3,  # \n",
    "    \"cycle6\" : 3  # Hoechst\n",
    "}\n",
    "\n",
    "# Define path\n",
    "path_input = Path(r\"/links/groups/treutlein/DATA/imaging/PW/4i/plate14_aligned_UZH_unsorted\")"
   ]
  },
  {
   "cell_type": "code",
   "execution_count": 4,
   "metadata": {},
   "outputs": [
    {
     "name": "stdout",
     "output_type": "stream",
     "text": [
      "cycle1\n",
      "cycle6\n"
     ]
    },
    {
     "data": {
      "application/vnd.jupyter.widget-view+json": {
       "model_id": "296a8d616294408cac98ad4224890dcb",
       "version_major": 2,
       "version_minor": 0
      },
      "text/plain": [
       "Canvas(toolbar=Toolbar(toolitems=[('Home', 'Reset original view', 'home', 'home'), ('Back', 'Back to previous …"
      ]
     },
     "metadata": {},
     "output_type": "display_data"
    }
   ],
   "source": [
    "# Load images\n",
    "images = []\n",
    "for cycle, chan in img_dict.items():\n",
    "    print(cycle)\n",
    "    filename = \"plate14_\"+well+\"_C0\"+str(chan)+\".png\"\n",
    "    img_path = path_input/cycle/filename\n",
    "    img = io.imread(str(img_path))\n",
    "    img_rescaled = rescale_image(img)\n",
    "    # Append to list\n",
    "    images.append(img_rescaled)\n",
    "\n",
    "    \n",
    "cycle_a, cycle_b = img_dict.keys()\n",
    "# Turn the channels into an RGB image by adding an empty red channel\n",
    "rescaled_both = np.dstack((np.zeros(images[0].shape), images[0], images[1]))\n",
    "rescaled_one = np.dstack((np.zeros(images[0].shape), images[0], np.zeros(images[0].shape)))\n",
    "rescaled_two = np.dstack((np.zeros(images[0].shape), np.zeros(images[0].shape), images[1]))\n",
    "\n",
    "plt.close(\"all\")\n",
    "fig, ax = plt.subplots(1,3, figsize=(12,5), sharex=True, sharey=True)\n",
    "ax[0].imshow(rescaled_both)\n",
    "ax[0].set_title(cycle_a + \" (green) + \" + cycle_b + \" (blue)\")\n",
    "ax[1].imshow(rescaled_one)\n",
    "ax[1].set_title(cycle_a)\n",
    "ax[2].imshow(rescaled_two)\n",
    "ax[2].set_title(cycle_b)\n",
    "#[ax[i].axis(\"off\") for i in range(len(ax))]\n",
    "plt.tight_layout()\n",
    "plt.show()"
   ]
  }
 ],
 "metadata": {
  "kernelspec": {
   "display_name": "Python [conda env:env_skimage]",
   "language": "python",
   "name": "conda-env-env_skimage-py"
  },
  "language_info": {
   "codemirror_mode": {
    "name": "ipython",
    "version": 3
   },
   "file_extension": ".py",
   "mimetype": "text/x-python",
   "name": "python",
   "nbconvert_exporter": "python",
   "pygments_lexer": "ipython3",
   "version": "3.7.7"
  }
 },
 "nbformat": 4,
 "nbformat_minor": 4
}
