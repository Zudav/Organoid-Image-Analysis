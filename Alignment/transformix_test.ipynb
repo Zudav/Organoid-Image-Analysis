{
 "cells": [
  {
   "cell_type": "markdown",
   "metadata": {},
   "source": [
    "Script that aligns images using already computed parameter maps. In the final code it would make more sense to run transformix right after elastix rather than do elastix on all cycles and then iterate over them again and do transformix."
   ]
  },
  {
   "cell_type": "code",
   "execution_count": 43,
   "metadata": {},
   "outputs": [],
   "source": [
    "import SimpleITK as sitk\n",
    "import os\n",
    "from skimage import io\n",
    "import numpy as np\n",
    "import matplotlib.pyplot as plt"
   ]
  },
  {
   "cell_type": "code",
   "execution_count": 54,
   "metadata": {},
   "outputs": [],
   "source": [
    "point = \"0016\"\n",
    "orig_dir = r\"/links/groups/treutlein/DATA/imaging/PW/4i/plate14\"\n",
    "filename = \"multichannel_Point\"+point+\"_Point00{ii}_ChannelSD 640,SD 488.tif\"\n",
    "aligned_dir = os.path.join(orig_dir, \"aligned/Point\"+point)\n",
    "# Get a list of all folder names in the aligned directory\n",
    "cycles = [f for f in os.listdir(aligned_dir) if os.path.isdir(os.path.join(aligned_dir, f))]\n",
    "# remove \"cycle1\" because we don't have to align that one\n",
    "cycles.remove(\"cycle1\")"
   ]
  },
  {
   "cell_type": "code",
   "execution_count": 55,
   "metadata": {},
   "outputs": [
    {
     "name": "stdout",
     "output_type": "stream",
     "text": [
      "cycle20\n",
      "Channel 0\n",
      "Channel 1\n",
      "Channel 2\n",
      "Channel 3\n"
     ]
    },
    {
     "name": "stderr",
     "output_type": "stream",
     "text": [
      "/home/noserpa/anaconda3/envs/env_itk/lib/python3.7/site-packages/ipykernel_launcher.py:33: UserWarning: /links/groups/treutlein/DATA/imaging/PW/4i/plate14/aligned/Point0016/cycle20/0016_cycle20.tif is a low contrast image\n"
     ]
    },
    {
     "name": "stdout",
     "output_type": "stream",
     "text": [
      "cycle2\n",
      "Channel 0\n",
      "Channel 1\n",
      "Channel 2\n",
      "Channel 3\n"
     ]
    },
    {
     "name": "stderr",
     "output_type": "stream",
     "text": [
      "/home/noserpa/anaconda3/envs/env_itk/lib/python3.7/site-packages/ipykernel_launcher.py:33: UserWarning: /links/groups/treutlein/DATA/imaging/PW/4i/plate14/aligned/Point0016/cycle2/0016_cycle2.tif is a low contrast image\n"
     ]
    },
    {
     "name": "stdout",
     "output_type": "stream",
     "text": [
      "cycle7\n",
      "Channel 0\n",
      "Channel 1\n",
      "Channel 2\n",
      "Channel 3\n"
     ]
    },
    {
     "name": "stderr",
     "output_type": "stream",
     "text": [
      "/home/noserpa/anaconda3/envs/env_itk/lib/python3.7/site-packages/ipykernel_launcher.py:33: UserWarning: /links/groups/treutlein/DATA/imaging/PW/4i/plate14/aligned/Point0016/cycle7/0016_cycle7.tif is a low contrast image\n"
     ]
    },
    {
     "name": "stdout",
     "output_type": "stream",
     "text": [
      "cycle6\n",
      "Channel 0\n",
      "Channel 1\n",
      "Channel 2\n",
      "Channel 3\n"
     ]
    },
    {
     "name": "stderr",
     "output_type": "stream",
     "text": [
      "/home/noserpa/anaconda3/envs/env_itk/lib/python3.7/site-packages/ipykernel_launcher.py:33: UserWarning: /links/groups/treutlein/DATA/imaging/PW/4i/plate14/aligned/Point0016/cycle6/0016_cycle6.tif is a low contrast image\n"
     ]
    },
    {
     "name": "stdout",
     "output_type": "stream",
     "text": [
      "cycle21\n",
      "Channel 0\n",
      "Channel 1\n",
      "Channel 2\n",
      "Channel 3\n"
     ]
    },
    {
     "name": "stderr",
     "output_type": "stream",
     "text": [
      "/home/noserpa/anaconda3/envs/env_itk/lib/python3.7/site-packages/ipykernel_launcher.py:33: UserWarning: /links/groups/treutlein/DATA/imaging/PW/4i/plate14/aligned/Point0016/cycle21/0016_cycle21.tif is a low contrast image\n"
     ]
    },
    {
     "name": "stdout",
     "output_type": "stream",
     "text": [
      "cycle12\n",
      "Channel 0\n",
      "Channel 1\n",
      "Channel 2\n",
      "Channel 3\n"
     ]
    },
    {
     "name": "stderr",
     "output_type": "stream",
     "text": [
      "/home/noserpa/anaconda3/envs/env_itk/lib/python3.7/site-packages/ipykernel_launcher.py:33: UserWarning: /links/groups/treutlein/DATA/imaging/PW/4i/plate14/aligned/Point0016/cycle12/0016_cycle12.tif is a low contrast image\n"
     ]
    },
    {
     "name": "stdout",
     "output_type": "stream",
     "text": [
      "cycle5\n",
      "Channel 0\n",
      "Channel 1\n",
      "Channel 2\n",
      "Channel 3\n"
     ]
    },
    {
     "name": "stderr",
     "output_type": "stream",
     "text": [
      "/home/noserpa/anaconda3/envs/env_itk/lib/python3.7/site-packages/ipykernel_launcher.py:33: UserWarning: /links/groups/treutlein/DATA/imaging/PW/4i/plate14/aligned/Point0016/cycle5/0016_cycle5.tif is a low contrast image\n"
     ]
    },
    {
     "name": "stdout",
     "output_type": "stream",
     "text": [
      "cycle16\n",
      "Channel 0\n",
      "Channel 1\n",
      "Channel 2\n",
      "Channel 3\n"
     ]
    },
    {
     "name": "stderr",
     "output_type": "stream",
     "text": [
      "/home/noserpa/anaconda3/envs/env_itk/lib/python3.7/site-packages/ipykernel_launcher.py:33: UserWarning: /links/groups/treutlein/DATA/imaging/PW/4i/plate14/aligned/Point0016/cycle16/0016_cycle16.tif is a low contrast image\n"
     ]
    },
    {
     "name": "stdout",
     "output_type": "stream",
     "text": [
      "cycle11\n",
      "Channel 0\n",
      "Channel 1\n",
      "Channel 2\n",
      "Channel 3\n"
     ]
    },
    {
     "name": "stderr",
     "output_type": "stream",
     "text": [
      "/home/noserpa/anaconda3/envs/env_itk/lib/python3.7/site-packages/ipykernel_launcher.py:33: UserWarning: /links/groups/treutlein/DATA/imaging/PW/4i/plate14/aligned/Point0016/cycle11/0016_cycle11.tif is a low contrast image\n"
     ]
    },
    {
     "name": "stdout",
     "output_type": "stream",
     "text": [
      "cycle15\n",
      "Channel 0\n",
      "Channel 1\n",
      "Channel 2\n",
      "Channel 3\n"
     ]
    },
    {
     "name": "stderr",
     "output_type": "stream",
     "text": [
      "/home/noserpa/anaconda3/envs/env_itk/lib/python3.7/site-packages/ipykernel_launcher.py:33: UserWarning: /links/groups/treutlein/DATA/imaging/PW/4i/plate14/aligned/Point0016/cycle15/0016_cycle15.tif is a low contrast image\n"
     ]
    },
    {
     "name": "stdout",
     "output_type": "stream",
     "text": [
      "cycle4\n",
      "Channel 0\n",
      "Channel 1\n",
      "Channel 2\n",
      "Channel 3\n"
     ]
    },
    {
     "name": "stderr",
     "output_type": "stream",
     "text": [
      "/home/noserpa/anaconda3/envs/env_itk/lib/python3.7/site-packages/ipykernel_launcher.py:33: UserWarning: /links/groups/treutlein/DATA/imaging/PW/4i/plate14/aligned/Point0016/cycle4/0016_cycle4.tif is a low contrast image\n"
     ]
    },
    {
     "name": "stdout",
     "output_type": "stream",
     "text": [
      "cycle19\n",
      "Channel 0\n",
      "Channel 1\n",
      "Channel 2\n",
      "Channel 3\n"
     ]
    },
    {
     "name": "stderr",
     "output_type": "stream",
     "text": [
      "/home/noserpa/anaconda3/envs/env_itk/lib/python3.7/site-packages/ipykernel_launcher.py:33: UserWarning: /links/groups/treutlein/DATA/imaging/PW/4i/plate14/aligned/Point0016/cycle19/0016_cycle19.tif is a low contrast image\n"
     ]
    },
    {
     "name": "stdout",
     "output_type": "stream",
     "text": [
      "cycle10\n",
      "Channel 0\n",
      "Channel 1\n",
      "Channel 2\n",
      "Channel 3\n"
     ]
    },
    {
     "name": "stderr",
     "output_type": "stream",
     "text": [
      "/home/noserpa/anaconda3/envs/env_itk/lib/python3.7/site-packages/ipykernel_launcher.py:33: UserWarning: /links/groups/treutlein/DATA/imaging/PW/4i/plate14/aligned/Point0016/cycle10/0016_cycle10.tif is a low contrast image\n"
     ]
    },
    {
     "name": "stdout",
     "output_type": "stream",
     "text": [
      "cycle14\n",
      "Channel 0\n",
      "Channel 1\n",
      "Channel 2\n",
      "Channel 3\n"
     ]
    },
    {
     "name": "stderr",
     "output_type": "stream",
     "text": [
      "/home/noserpa/anaconda3/envs/env_itk/lib/python3.7/site-packages/ipykernel_launcher.py:33: UserWarning: /links/groups/treutlein/DATA/imaging/PW/4i/plate14/aligned/Point0016/cycle14/0016_cycle14.tif is a low contrast image\n"
     ]
    },
    {
     "name": "stdout",
     "output_type": "stream",
     "text": [
      "cycle9\n",
      "Channel 0\n",
      "Channel 1\n",
      "Channel 2\n",
      "Channel 3\n"
     ]
    },
    {
     "name": "stderr",
     "output_type": "stream",
     "text": [
      "/home/noserpa/anaconda3/envs/env_itk/lib/python3.7/site-packages/ipykernel_launcher.py:33: UserWarning: /links/groups/treutlein/DATA/imaging/PW/4i/plate14/aligned/Point0016/cycle9/0016_cycle9.tif is a low contrast image\n"
     ]
    },
    {
     "name": "stdout",
     "output_type": "stream",
     "text": [
      "cycle18\n",
      "Channel 0\n",
      "Channel 1\n",
      "Channel 2\n",
      "Channel 3\n"
     ]
    },
    {
     "name": "stderr",
     "output_type": "stream",
     "text": [
      "/home/noserpa/anaconda3/envs/env_itk/lib/python3.7/site-packages/ipykernel_launcher.py:33: UserWarning: /links/groups/treutlein/DATA/imaging/PW/4i/plate14/aligned/Point0016/cycle18/0016_cycle18.tif is a low contrast image\n"
     ]
    },
    {
     "name": "stdout",
     "output_type": "stream",
     "text": [
      "cycle3\n",
      "Channel 0\n",
      "Channel 1\n",
      "Channel 2\n",
      "Channel 3\n"
     ]
    },
    {
     "name": "stderr",
     "output_type": "stream",
     "text": [
      "/home/noserpa/anaconda3/envs/env_itk/lib/python3.7/site-packages/ipykernel_launcher.py:33: UserWarning: /links/groups/treutlein/DATA/imaging/PW/4i/plate14/aligned/Point0016/cycle3/0016_cycle3.tif is a low contrast image\n"
     ]
    },
    {
     "name": "stdout",
     "output_type": "stream",
     "text": [
      "cycle13\n",
      "Channel 0\n",
      "Channel 1\n",
      "Channel 2\n",
      "Channel 3\n"
     ]
    },
    {
     "name": "stderr",
     "output_type": "stream",
     "text": [
      "/home/noserpa/anaconda3/envs/env_itk/lib/python3.7/site-packages/ipykernel_launcher.py:33: UserWarning: /links/groups/treutlein/DATA/imaging/PW/4i/plate14/aligned/Point0016/cycle13/0016_cycle13.tif is a low contrast image\n"
     ]
    },
    {
     "name": "stdout",
     "output_type": "stream",
     "text": [
      "cycle17\n",
      "Channel 0\n",
      "Channel 1\n",
      "Channel 2\n",
      "Channel 3\n"
     ]
    },
    {
     "name": "stderr",
     "output_type": "stream",
     "text": [
      "/home/noserpa/anaconda3/envs/env_itk/lib/python3.7/site-packages/ipykernel_launcher.py:33: UserWarning: /links/groups/treutlein/DATA/imaging/PW/4i/plate14/aligned/Point0016/cycle17/0016_cycle17.tif is a low contrast image\n"
     ]
    },
    {
     "name": "stdout",
     "output_type": "stream",
     "text": [
      "cycle8\n",
      "Channel 0\n",
      "Channel 1\n",
      "Channel 2\n",
      "Channel 3\n"
     ]
    },
    {
     "name": "stderr",
     "output_type": "stream",
     "text": [
      "/home/noserpa/anaconda3/envs/env_itk/lib/python3.7/site-packages/ipykernel_launcher.py:33: UserWarning: /links/groups/treutlein/DATA/imaging/PW/4i/plate14/aligned/Point0016/cycle8/0016_cycle8.tif is a low contrast image\n"
     ]
    }
   ],
   "source": [
    "for cycle in cycles:\n",
    "    print(cycle)\n",
    "    # load original image\n",
    "    img_orig = io.imread(os.path.join(orig_dir, cycle, \"stitched\", filename))\n",
    "    # Get path to corresponding parameter maps\n",
    "    path_maps = os.path.join(aligned_dir, cycle, \"param_maps\")\n",
    "    channels = []\n",
    "    for channel in range(img_orig.shape[2]):\n",
    "        print(\"Channel\", channel)\n",
    "        transformix_filter = sitk.TransformixImageFilter()\n",
    "        transformix_filter.SetTransformParameterMap(sitk.ReadParameterFile(os.path.join(path_maps, \"TransformParameters.0.txt\")))\n",
    "        transformix_filter.AddTransformParameterMap(sitk.ReadParameterFile(os.path.join(path_maps, \"TransformParameters.1.txt\")))\n",
    "        transformix_filter.AddTransformParameterMap(sitk.ReadParameterFile(os.path.join(path_maps, \"TransformParameters.2.txt\")))\n",
    "        transformix_filter.SetMovingImage(sitk.GetImageFromArray(img_orig[..., channel]))\n",
    "        channel_aligned = transformix_filter.Execute()\n",
    "        \n",
    "        # Convert to numpy array\n",
    "        channel_aligned = sitk.GetArrayFromImage(channel_aligned)\n",
    "        # Cap values just in case\n",
    "        channel_aligned[channel_aligned < 0] = 0\n",
    "        channel_aligned[channel_aligned > 65535] = 65535\n",
    "        # Convert to uint16\n",
    "        channel_aligned = channel_aligned.astype(np.uint16)\n",
    "        \n",
    "        # append aligned channel to the list\n",
    "        channels.append(channel_aligned)\n",
    "    \n",
    "    # combine channels into an image\n",
    "    img_aligned = np.dstack(channels)\n",
    "    \n",
    "    # save aligned image\n",
    "    img_name = point+\"_\"+cycle+\".tif\"\n",
    "    io.imsave(os.path.join(aligned_dir, cycle, img_name), img_aligned)"
   ]
  }
 ],
 "metadata": {
  "kernelspec": {
   "display_name": "Python [conda env:env_itk]",
   "language": "python",
   "name": "conda-env-env_itk-py"
  },
  "language_info": {
   "codemirror_mode": {
    "name": "ipython",
    "version": 3
   },
   "file_extension": ".py",
   "mimetype": "text/x-python",
   "name": "python",
   "nbconvert_exporter": "python",
   "pygments_lexer": "ipython3",
   "version": "3.7.7"
  }
 },
 "nbformat": 4,
 "nbformat_minor": 2
}
