{
 "cells": [
  {
   "cell_type": "markdown",
   "metadata": {},
   "source": [
    "Runfile for CellPose segmentation. On top of saving the images, it also saves a .txt file containing the parameters chosen for the segmentation. I implemented it this way because I tried various different segmentations and this made it easier to keep track of what I did. The `notes` variable defined three cells down is just meant for some explanation of what you did that was specific to this segmentation. Can just be an empty string though. **Make sure to define a `segmentation_version` (name) which hasn't been used yet because otherwise the files in that folder will be overwritten.**"
   ]
  },
  {
   "cell_type": "code",
   "execution_count": 1,
   "metadata": {},
   "outputs": [],
   "source": [
    "from cellpose import models\n",
    "from skimage import io\n",
    "from pathlib import Path\n",
    "import string\n",
    "import numpy as np\n",
    "from skimage import img_as_uint\n",
    "from skimage.filters import threshold_otsu\n",
    "from datetime import datetime"
   ]
  },
  {
   "cell_type": "code",
   "execution_count": 2,
   "metadata": {},
   "outputs": [],
   "source": [
    "def create_well_ids(nrows, ncols, n_wells): \n",
    "    row_names = list(string.ascii_uppercase)[:nrows]\n",
    "    well_names = [\"{}{:02d}\".format(row_name, col_name) for row_name in row_names for col_name in range(1,ncols+1)]\n",
    "    return well_names[:n_wells]"
   ]
  },
  {
   "cell_type": "code",
   "execution_count": 7,
   "metadata": {},
   "outputs": [
    {
     "name": "stdout",
     "output_type": "stream",
     "text": [
      "\n",
      "OUTPUT FOLDER ALREADY EXISTS, PICK A DIFFERENT NAME ('segmentation_version')\n",
      "OUTPUT FOLDER ALREADY EXISTS, PICK A DIFFERENT NAME ('segmentation_version')\n",
      "OUTPUT FOLDER ALREADY EXISTS, PICK A DIFFERENT NAME ('segmentation_version')\n",
      "OUTPUT FOLDER ALREADY EXISTS, PICK A DIFFERENT NAME ('segmentation_version')\n",
      "OUTPUT FOLDER ALREADY EXISTS, PICK A DIFFERENT NAME ('segmentation_version')\n"
     ]
    }
   ],
   "source": [
    "segmentation_version = \"V2\"  # Make sure to pick a name that doesn't exist yet\n",
    "nucleus_chan = 3 # nucleus stain channel number\n",
    "experiment_name = \"plate14\"\n",
    "# For txt output file\n",
    "notes = \"Otsu threshold on Hoechst prior to segmentation\"\n",
    "\n",
    "# Path to images\n",
    "img_dir = Path(r\"/links/groups/treutlein/DATA/imaging/PW/4i/plate14_aligned_UZH\")\n",
    "# Output path for segmentation masks\n",
    "out_dir = Path(r\"/links/groups/treutlein/DATA/imaging/PW/4i/plate14_aligned_nuclei_{}\".format(segmentation_version))\n",
    "if out_dir.is_dir():\n",
    "    print(5*\"\\nOUTPUT FOLDER ALREADY EXISTS, PICK A DIFFERENT NAME ('segmentation_version')\")\n",
    "\n",
    "ref_cycle = \"cycle1\"  # cycle that will be used to create segmentation masks\n",
    "# Exceptions where another cycle should be used\n",
    "ref_exceptions = {\n",
    "    \"G01\": \"cycle2\",\n",
    "    \"G02\": \"cycle2\"\n",
    "}\n",
    "\n",
    "# Create list of well names\n",
    "# Specify dimensions of plate (e.g nrows=16 and ncols=24 for 384 well plate)\n",
    "nrows = 7\n",
    "ncols = 8\n",
    "wells = create_well_ids(nrows=nrows, ncols=ncols, n_wells=50)"
   ]
  },
  {
   "cell_type": "code",
   "execution_count": 47,
   "metadata": {
    "scrolled": true
   },
   "outputs": [
    {
     "name": "stdout",
     "output_type": "stream",
     "text": [
      "A01 cycle1\n",
      "A02 cycle1\n",
      "A03 cycle1\n",
      "A04 cycle1\n",
      "A05 cycle1\n",
      "A06 cycle1\n",
      "A07 cycle1\n",
      "A08 cycle1\n",
      "B01 cycle1\n",
      "B02 cycle1\n",
      "B03 cycle1\n",
      "B04 cycle1\n",
      "B05 cycle1\n",
      "B06 cycle1\n",
      "B07 cycle1\n",
      "B08 cycle1\n",
      "C01 cycle1\n",
      "C02 cycle1\n",
      "C03 cycle1\n",
      "C04 cycle1\n",
      "C05 cycle1\n",
      "C06 cycle1\n",
      "C07 cycle1\n",
      "C08 cycle1\n",
      "D01 cycle1\n",
      "D02 cycle1\n",
      "D03 cycle1\n",
      "D04 cycle1\n",
      "D05 cycle1\n",
      "D06 cycle1\n",
      "D07 cycle1\n",
      "D08 cycle1\n",
      "E01 cycle1\n",
      "E02 cycle1\n",
      "E03 cycle1\n",
      "E04 cycle1\n",
      "E05 cycle1\n",
      "E06 cycle1\n",
      "E07 cycle1\n",
      "E08 cycle1\n",
      "F01 cycle1\n",
      "F02 cycle1\n",
      "F03 cycle1\n",
      "F04 cycle1\n",
      "F05 cycle1\n",
      "F06 cycle1\n",
      "F07 cycle1\n",
      "F08 cycle1\n",
      "G01 cycle2\n",
      "G02 cycle2\n"
     ]
    }
   ],
   "source": [
    "imgs = []\n",
    "out_names = []\n",
    "# Load images\n",
    "for well in wells:\n",
    "    # Define reference cycle\n",
    "    if well in ref_exceptions:\n",
    "        cycle = ref_exceptions[well]\n",
    "    else:\n",
    "        cycle = ref_cycle\n",
    "    # Define image name, load image\n",
    "    img_name = \"{}_{}_C{:02d}.png\".format(experiment_name, well, nucleus_chan)\n",
    "    try:\n",
    "        print(well, cycle)\n",
    "        # Load image\n",
    "        img = io.imread(str(img_dir/cycle/img_name))\n",
    "        # Define name of segmentation mask file for this particular image\n",
    "        out_name = \"{}_{}_mask.png\".format(experiment_name, well)\n",
    "        # Store both the image and the name for its segmentation mask\n",
    "        out_names.append(out_name)\n",
    "        imgs.append(img)\n",
    "    except FileNotFoundError:\n",
    "        print(\"{} not found\".format(well))"
   ]
  },
  {
   "cell_type": "code",
   "execution_count": 48,
   "metadata": {},
   "outputs": [],
   "source": [
    "# Threshold\n",
    "for img in imgs:\n",
    "    thr = threshold_otsu(img)\n",
    "    img[img < thr] = 0"
   ]
  },
  {
   "cell_type": "code",
   "execution_count": null,
   "metadata": {},
   "outputs": [
    {
     "name": "stdout",
     "output_type": "stream",
     "text": [
      ">>>> using CPU\n",
      "cellpose_residual_on_style_on_concatenation_off\n",
      "processing 50 image(s)\n"
     ]
    },
    {
     "name": "stderr",
     "output_type": "stream",
     "text": [
      " 22%|██▏       | 11/50 [5:32:38<17:43:25, 1636.04s/it]"
     ]
    }
   ],
   "source": [
    "## Define cellpose model and parameters\n",
    "model_type = \"cyto\"\n",
    "model = models.Cellpose(gpu=False, model_type=model_type)\n",
    "diam = 35\n",
    "flow_thr = 0.8\n",
    "cellprob_thr = 0\n",
    "channels = [0,0]  # [0,0] for grayscale\n",
    "\n",
    "start_time = datetime.now()\n",
    "masks, flows, styles, diams = model.eval(imgs, diameter=diam, channels=channels, do_3D=False,\n",
    "                                         flow_threshold=flow_thr, cellprob_threshold=cellprob_thr)"
   ]
  },
  {
   "cell_type": "code",
   "execution_count": null,
   "metadata": {},
   "outputs": [],
   "source": [
    "# Create output directory if it doesn't exist yet\n",
    "if not Path(out_dir).is_dir():\n",
    "    out_dir.mkdir(parents=True, exist_ok=True)\n",
    "\n",
    "# Save segmentation masks\n",
    "for i in range(len(masks)):\n",
    "    mask = img_as_uint(masks[i])  # convert to uint16\n",
    "    filename = out_names[i]\n",
    "    io.imsave(out_dir/filename, mask)\n",
    "\n",
    "end_time = datetime.now()"
   ]
  },
  {
   "cell_type": "code",
   "execution_count": null,
   "metadata": {},
   "outputs": [],
   "source": [
    "# Write txt file to note down parameters\n",
    "with open(Path(out_dir/\"segmentation_params.txt\"), \"w\") as file:\n",
    "    file.write(\"Start:\\t {}\\n\".format(start_time.strftime(\"%d.%m.%Y - %H:%M:%S\")))\n",
    "    file.write(\"Finish:\\t {}\\n\\n\".format(end_time.strftime(\"%d.%m.%Y - %H:%M:%S\")))\n",
    "    file.write(\"model_type: {}\\n\".format(model_type))\n",
    "    file.write(\"diameter: {}\\n\".format(diam))\n",
    "    file.write(\"flow_threshold: {}\\n\".format(flow_thr))\n",
    "    file.write(\"cellprob_threshold: {}\\n\".format(cellprob_thr))\n",
    "    file.write(\"channels: {}\\n\\n\".format(channels))\n",
    "    file.write(\"Notes:\\n  {}\".format(notes))"
   ]
  },
  {
   "cell_type": "markdown",
   "metadata": {},
   "source": [
    "--- \n",
    "## Checking segmentation"
   ]
  },
  {
   "cell_type": "code",
   "execution_count": 58,
   "metadata": {},
   "outputs": [],
   "source": [
    "%matplotlib widget\n",
    "\n",
    "from skimage import io\n",
    "from pathlib import Path\n",
    "import matplotlib.pyplot as plt\n",
    "from skimage.exposure import rescale_intensity\n",
    "import numpy as np"
   ]
  },
  {
   "cell_type": "code",
   "execution_count": 59,
   "metadata": {},
   "outputs": [],
   "source": [
    "def rescale_image(img, min_quant=0, max_quant=0.99): \n",
    "    img = img * 1.0 # turn type to float before rescaling\n",
    "    min_val = np.quantile(img, min_quant)\n",
    "    max_val = np.quantile(img, max_quant)\n",
    "    img = rescale_intensity(img, in_range=(min_val, max_val))\n",
    "    return img\n",
    "\n",
    "def colour_nuclei(nuclei):\n",
    "    coloured = np.zeros((nuclei.shape[0], nuclei.shape[1], 3), np.uint8)\n",
    "    for n in range(nuclei.max()):\n",
    "        pixels = (nuclei==n+1)\n",
    "        coloured[pixels, :] = np.random.randint(1,255,3)\n",
    "    return coloured"
   ]
  },
  {
   "cell_type": "code",
   "execution_count": 184,
   "metadata": {},
   "outputs": [],
   "source": [
    "nuclei_dir = Path(r\"/links/groups/treutlein/DATA/imaging/PW/4i/plate14_aligned_nuclei_V1\")\n",
    "img_dir = Path(r\"/links/groups/treutlein/DATA/imaging/PW/4i/plate14_aligned_UZH\")\n",
    "\n",
    "experiment_name = \"plate14\"\n",
    "well = \"A04\"\n",
    "cycle = \"cycle1\"\n",
    "nucleus_chan = 3\n",
    "\n",
    "# Load images\n",
    "img_file = \"{}_{}_C{:02d}.png\".format(experiment_name, well, nucleus_chan)\n",
    "img = io.imread(str(img_dir/cycle/img_file))\n",
    "nuc_file = \"{}_{}_mask.png\".format(experiment_name, well)\n",
    "nuclei = io.imread(str(nuclei_dir/nuc_file))"
   ]
  },
  {
   "cell_type": "markdown",
   "metadata": {},
   "source": [
    "Note: Colouring the nuclei in different colours takes a really long time for the whole image. It makes sense to first just look at the Hoechst image, look for an interesting region and then only showing the segmentation for that region to save time."
   ]
  },
  {
   "cell_type": "code",
   "execution_count": 185,
   "metadata": {},
   "outputs": [
    {
     "data": {
      "application/vnd.jupyter.widget-view+json": {
       "model_id": "662c1363e7e74605b72cc92a9d3e3540",
       "version_major": 2,
       "version_minor": 0
      },
      "text/plain": [
       "Canvas(toolbar=Toolbar(toolitems=[('Home', 'Reset original view', 'home', 'home'), ('Back', 'Back to previous …"
      ]
     },
     "metadata": {},
     "output_type": "display_data"
    },
    {
     "data": {
      "text/plain": [
       "<matplotlib.image.AxesImage at 0x7f732e238e90>"
      ]
     },
     "execution_count": 185,
     "metadata": {},
     "output_type": "execute_result"
    }
   ],
   "source": [
    "plt.close(\"all\")\n",
    "fig = plt.figure(figsize=(7,7))\n",
    "plt.imshow(rescale_image(img), cmap=\"gray\")"
   ]
  },
  {
   "cell_type": "code",
   "execution_count": 186,
   "metadata": {},
   "outputs": [],
   "source": [
    "# Define region of interest\n",
    "y_min = 800\n",
    "y_max = 6700\n",
    "x_min = 2500\n",
    "x_max = img.shape[0]\n",
    "\n",
    "# Get coloured version of nuclei segmentation\n",
    "coloured_nuclei = colour_nuclei(nuclei[y_min:y_max, x_min:x_max])\n",
    "# Add alpha channel to make background transparent\n",
    "alpha = np.all(coloured_nuclei != 0, axis=2) * 255\n",
    "nuclei_rgba = np.dstack((coloured_nuclei, alpha)).astype(np.uint8)"
   ]
  },
  {
   "cell_type": "code",
   "execution_count": 187,
   "metadata": {},
   "outputs": [],
   "source": [
    "# Dont mask the images directly\n",
    "img_masked = img[y_min:y_max, x_min:x_max].copy()\n",
    "nuc_masked = nuclei_rgba.copy()"
   ]
  },
  {
   "cell_type": "code",
   "execution_count": 180,
   "metadata": {},
   "outputs": [],
   "source": [
    "# Potentially mask out areas\n",
    "x_left = 4500\n",
    "x_right = 4800\n",
    "y_top = 4000\n",
    "y_bottom = 4300\n",
    "\n",
    "img_masked[y_top:y_bottom, x_left:x_right] = 0\n",
    "nuc_masked[y_top:y_bottom, x_left:x_right] = 0"
   ]
  },
  {
   "cell_type": "code",
   "execution_count": 188,
   "metadata": {},
   "outputs": [
    {
     "data": {
      "application/vnd.jupyter.widget-view+json": {
       "model_id": "5c713136da6f475ea7ba51676ce38c07",
       "version_major": 2,
       "version_minor": 0
      },
      "text/plain": [
       "Canvas(toolbar=Toolbar(toolitems=[('Home', 'Reset original view', 'home', 'home'), ('Back', 'Back to previous …"
      ]
     },
     "metadata": {},
     "output_type": "display_data"
    }
   ],
   "source": [
    "# Plot Hoechst next to segmentation\n",
    "plt.close(\"all\")\n",
    "fig, ax = plt.subplots(1,2, figsize=(10,6), sharex=True, sharey=True)\n",
    "ax[0].imshow(rescale_image(img_masked), cmap=\"gray\")\n",
    "ax[0].axis(\"off\")\n",
    "ax[1].imshow(rescale_image(img_masked), cmap=\"gray\")\n",
    "ax[1].imshow(nuc_masked, alpha=0.5)\n",
    "ax[1].axis(\"off\")\n",
    "plt.tight_layout()\n",
    "fig.subplots_adjust(wspace=0, hspace=0)\n",
    "plt.show()"
   ]
  }
 ],
 "metadata": {
  "kernelspec": {
   "display_name": "Python [conda env:env_skimage]",
   "language": "python",
   "name": "conda-env-env_skimage-py"
  },
  "language_info": {
   "codemirror_mode": {
    "name": "ipython",
    "version": 3
   },
   "file_extension": ".py",
   "mimetype": "text/x-python",
   "name": "python",
   "nbconvert_exporter": "python",
   "pygments_lexer": "ipython3",
   "version": "3.7.7"
  }
 },
 "nbformat": 4,
 "nbformat_minor": 4
}
