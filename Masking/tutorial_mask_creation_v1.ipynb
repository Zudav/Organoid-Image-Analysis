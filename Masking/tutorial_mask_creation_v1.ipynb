{
 "cells": [
  {
   "cell_type": "markdown",
   "metadata": {},
   "source": [
    "# Creation of masks\n",
    "**Note:** This tool can be used to draw polygons around stuff that should be excluded but I later on figured that instead it makes more sense to draw a polygon around the stuff you actually want to keep (see v2). In case someone changes their mind about this I will just keep this notebook around.\n",
    "## Eraser tool\n",
    "The PolyEraser class allows the user to manually erase sections of an image by drawing polygons around them.\n",
    "#### Instructions\n",
    "After loading an image a figure needs to be created (`fig,ax = plt.subplots()`) and the image plotted onto the axis (`ax.imshow()`). Then, a `PolyEraser` object needs to be created, supplying both the axis object where the image is plotted on, as well as the image itself. The user can then \"draw\" polygons directly onto the image using **left click** to create corners (which are automatically connected by a line), and **right click** to complete a polygon. E.g. if you want to draw a triangle, left click point one, then point two, then point three and finally \"close\" the polygon by right clicking anywhere in the image (Note: The first point and last point you clicked will automatically be connected). Pressing the **u** key (\"undo\") while drawing a polygon will remove the last point you clicked. There is no direct command to remove an already completed polygon, but since each polygon created is stored inside the PolyEraser object this can still be removed afterwards if needed. There is no theoretical limit to how many polygons there can be and how many corners each polygon is composed of. Once done with drawing polygons, pressing the **a** key (\"apply\") will create a filter mask and multiply the original image with this mask to create the new image. The new image can be accessed using `obj.new_image` where obj is the PolyEraser object.\n",
    "#### Requirements\n",
    "In order to run the notebook as \"matplotlib widget\" [this](https://github.com/matplotlib/ipympl) installation of ipympl needs to be followed. If you're using a virtual environment you may need to install it in the base environment as well."
   ]
  },
  {
   "cell_type": "code",
   "execution_count": 2,
   "metadata": {},
   "outputs": [],
   "source": [
    "%matplotlib widget\n",
    "\n",
    "import matplotlib.pyplot as plt\n",
    "import ipywidgets as widgets\n",
    "import numpy as np\n",
    "from skimage import io\n",
    "from skimage.draw import polygon as sk_polygon       # Changed name to avoid confusion\n",
    "from matplotlib.patches import Polygon as mpl_polygon  # Changed name to avoid confusion\n",
    "from pathlib import Path\n",
    "from skimage.exposure import rescale_intensity\n",
    "from skimage.filters import (gaussian, threshold_multiotsu)\n",
    "from skimage.morphology import remove_small_objects\n",
    "from scipy import ndimage as ndi\n",
    "from skimage import (img_as_uint, img_as_float, img_as_float32, img_as_bool)"
   ]
  },
  {
   "cell_type": "code",
   "execution_count": 3,
   "metadata": {},
   "outputs": [],
   "source": [
    "class PolyEraser:\n",
    "    def __init__(self, ax, orig_img):\n",
    "        self.ax = ax\n",
    "        line = self.ax.plot([], [])[0]  # empty line, [0] necessary because ax.plot() returns a list with 1 element\n",
    "        self.line = line\n",
    "        \n",
    "        # Create empty lists that will be filled with user input\n",
    "        self.xs = []  # filled with x coordinates\n",
    "        self.ys = []  # filled with y coordinates\n",
    "        self.coords = []  # filled with coordinate tuples\n",
    "        self.polygons = []  # filled with lists of coordinate tuples that define all polygons\n",
    "        \n",
    "        # Save input mask\n",
    "        self.orig_img = orig_img\n",
    "        \n",
    "        # Connections to key and button presses\n",
    "        self.cid_button = line.figure.canvas.mpl_connect('button_press_event', self.button_press)\n",
    "        self.cid_key = line.figure.canvas.mpl_connect('key_press_event', self.key_press)\n",
    "\n",
    "        \n",
    "    def key_press(self,event):\n",
    "        # Save name of the key pressed\n",
    "        key_name = event.key\n",
    "            \n",
    "        if key_name == \"u\":  # Undo\n",
    "            with output:\n",
    "                print(\"Undo\")\n",
    "            # Remove last entry\n",
    "            del self.xs[-1]\n",
    "            del self.ys[-1]\n",
    "            del self.coords[-1]\n",
    "            # Redraw line\n",
    "            self.line.set_data(self.xs, self.ys)\n",
    "            self.line.figure.canvas.draw()\n",
    "        \n",
    "        if key_name == \"a\":  # Apply\n",
    "            with output:\n",
    "                print(\"Finished with {} polygons\".format(len(self.polygons)))\n",
    "                print(\"Creating new image...\")\n",
    "        \n",
    "            # Create the mask of the mask\n",
    "            self.filter_mask = self.create_filter_mask()\n",
    "\n",
    "            \n",
    "            # Create new mask by applying mom to old mask\n",
    "            self.new_img = self.orig_img * self.filter_mask\n",
    "                        \n",
    "            with output:\n",
    "                print(\"New image created successfully\")\n",
    "            \n",
    "            # Stop gathering input\n",
    "            self.line.figure.canvas.mpl_disconnect(self.cid_button)\n",
    "            self.line.figure.canvas.mpl_disconnect(self.cid_key)\n",
    "\n",
    "            \n",
    "    def button_press(self, event):\n",
    "        # Prevent error if user clicks outside of image\n",
    "        if event.inaxes!=self.line.axes: return\n",
    "        # Save name of mouse button clicked\n",
    "        button_name = event.button.name\n",
    "        \n",
    "        if button_name == \"LEFT\":\n",
    "            ix = event.xdata\n",
    "            iy = event.ydata\n",
    "            #with output:  # Print coordinates\n",
    "            #    print('x = {}, y = {}'.format(int(ix), int(iy)))\n",
    "            \n",
    "            # Append coordinates to lists and redraw line\n",
    "            self.xs.append(ix)\n",
    "            self.ys.append(iy)\n",
    "            self.coords.append((ix, iy))\n",
    "            self.line.set_data(self.xs, self.ys)\n",
    "            self.line.figure.canvas.draw()\n",
    "            \n",
    "        elif button_name == \"RIGHT\":\n",
    "            with output:\n",
    "                print(\"Completed polygon with {} corners\".format(len(self.xs)))\n",
    "            # Add coordinates of finished polygon to the polygon list\n",
    "            self.polygons.append(self.coords)\n",
    "            # Draw polygon where the line was\n",
    "            self.ax.add_patch(mpl_polygon(self.coords))\n",
    "            # Reset coords and xs,ys\n",
    "            self.xs = []\n",
    "            self.ys = []\n",
    "            self.coords = []\n",
    "            # Reset line\n",
    "            self.line.set_data(self.xs, self.ys)\n",
    "            self.line.figure.canvas.draw()\n",
    "        \n",
    "        \n",
    "    def create_filter_mask(self):\n",
    "        # Create new array in correct size\n",
    "        filter_mask = np.ones(self.orig_img.shape, dtype=np.uint8)\n",
    "        # Iterate over all objects in the polygons list\n",
    "        for shape in self.polygons:\n",
    "            # Get x and y coordinates for current polygon as separate lists\n",
    "            xx, yy = [[i for i,j in shape], [j for i,j in shape]]\n",
    "            # Get coordinates of all points within polygon\n",
    "            rr, cc = sk_polygon(yy, xx)\n",
    "            # Set value to 0\n",
    "            filter_mask[rr, cc] = 0\n",
    "        return filter_mask"
   ]
  },
  {
   "cell_type": "code",
   "execution_count": 4,
   "metadata": {},
   "outputs": [],
   "source": [
    "def rescale_image(img, min_quant=0, max_quant=0.98): \n",
    "    img = img * 1.0 # turn type to float before rescaling\n",
    "    min_val = np.quantile(img, min_quant)\n",
    "    max_val = np.quantile(img, max_quant)\n",
    "    img = rescale_intensity(img, in_range=(min_val, max_val))\n",
    "    return img"
   ]
  },
  {
   "cell_type": "markdown",
   "metadata": {},
   "source": [
    "### Creating a mask\n",
    "The goal is to create a mask that includes only the organoid. This is achieved in multiple steps:  \n",
    "First, a number of cycles and corresponding channels is defined (see `img_dict`). The specified images are loaded, the relevant channels rescaled and appended to a new array and finally an average across channels of the rescaled array is taken. This image is then modified using the PolyEraser tool to remove unwanted objects manually."
   ]
  },
  {
   "cell_type": "code",
   "execution_count": 5,
   "metadata": {},
   "outputs": [
    {
     "name": "stdout",
     "output_type": "stream",
     "text": [
      "cycle1\n",
      "cycle15\n",
      "Array shape: (7749, 7746, 2)\n"
     ]
    }
   ],
   "source": [
    "# Paths and images\n",
    "point = \"Point0043\"\n",
    "path_input = Path(r\"/links/groups/treutlein/DATA/imaging/PW/4i/plate14/aligned\")/point\n",
    "\n",
    "img_dict = {\n",
    "    \"cycle1\": [2],  # Hoechst stain\n",
    "    \"cycle15\": [1]  # Membrane stain\n",
    "}\n",
    "\n",
    "\n",
    "images = []\n",
    "for cycle in img_dict:\n",
    "    print(cycle)\n",
    "    filename = point+\"_\"+cycle+\".tif\"\n",
    "    img_path = path_input/cycle/filename\n",
    "    img = io.imread(str(img_path))\n",
    "    # Only keep relevant channels\n",
    "    relev_chans = img_dict[cycle]\n",
    "    img = img[...,relev_chans]\n",
    "    # Rescale intensities\n",
    "    img_rescaled = np.zeros(img.shape)\n",
    "    for channel in range(len(relev_chans)):\n",
    "        channel_rescaled = rescale_image(img[..., channel])\n",
    "        img_rescaled[..., channel] = channel_rescaled\n",
    "    # Append to list\n",
    "    images.append(img_rescaled)\n",
    "\n",
    "# Stack all images into a single array with their colour channels along the third axis\n",
    "rescaled_array = np.dstack(images)\n",
    "print(\"Array shape:\", np.shape(rescaled_array))"
   ]
  },
  {
   "cell_type": "code",
   "execution_count": 6,
   "metadata": {},
   "outputs": [
    {
     "data": {
      "application/vnd.jupyter.widget-view+json": {
       "model_id": "701a54fd9ec542939408cf966a068c4e",
       "version_major": 2,
       "version_minor": 0
      },
      "text/plain": [
       "Canvas(toolbar=Toolbar(toolitems=[('Home', 'Reset original view', 'home', 'home'), ('Back', 'Back to previous …"
      ]
     },
     "metadata": {},
     "output_type": "display_data"
    },
    {
     "data": {
      "application/vnd.jupyter.widget-view+json": {
       "model_id": "ef52a6b0f9e5473d8014470415a7068b",
       "version_major": 2,
       "version_minor": 0
      },
      "text/plain": [
       "Output()"
      ]
     },
     "metadata": {},
     "output_type": "display_data"
    }
   ],
   "source": [
    "plt.close('all')\n",
    "# take average of rescaled array\n",
    "img_avg = np.average(rescaled_array, axis=2)\n",
    "# Manually remove objects\n",
    "fig, ax = plt.subplots(figsize=(9,9))\n",
    "ax.imshow(img_avg)\n",
    "\n",
    "# Create eraser object\n",
    "eraser = PolyEraser(ax, img_avg)\n",
    "\n",
    "# Output widget needed to display print statements\n",
    "output = widgets.Output()\n",
    "display(output)"
   ]
  },
  {
   "cell_type": "code",
   "execution_count": 7,
   "metadata": {},
   "outputs": [
    {
     "data": {
      "application/vnd.jupyter.widget-view+json": {
       "model_id": "efb982aef3364e9390d10e681b1b0eb8",
       "version_major": 2,
       "version_minor": 0
      },
      "text/plain": [
       "Canvas(toolbar=Toolbar(toolitems=[('Home', 'Reset original view', 'home', 'home'), ('Back', 'Back to previous …"
      ]
     },
     "metadata": {},
     "output_type": "display_data"
    }
   ],
   "source": [
    "img_erased = eraser.new_img\n",
    "filter_mask = eraser.filter_mask * 1.0  # turn dtype to float by multiplying by 1.0\n",
    "# Show image\n",
    "fig,ax = plt.subplots(1,3, figsize=(10,3))\n",
    "ax[0].imshow(img_avg)\n",
    "ax[0].set_title(\"Old image\")\n",
    "ax[1].imshow(filter_mask)\n",
    "ax[1].set_title(\"Filter mask\")\n",
    "ax[2].imshow(img_erased)\n",
    "ax[2].set_title(\"New image\")\n",
    "[ax[i].set_axis_off() for i in range(len(ax))]\n",
    "plt.show()"
   ]
  },
  {
   "cell_type": "markdown",
   "metadata": {},
   "source": [
    "Next, the image is blurred and a threshold separating foreground from background is determined by using `threshold_multiotsu()` with 4 classes and taking the lowest value. This is fairly conservative and keeps the areas on the borders that aren't that high in intensity. After applying the threshold, any potential holes within the organoid are filled. This process yields a mask that roughly ecompasses the organoid and everything inside of it."
   ]
  },
  {
   "cell_type": "code",
   "execution_count": 8,
   "metadata": {},
   "outputs": [
    {
     "data": {
      "application/vnd.jupyter.widget-view+json": {
       "model_id": "9accb7396525464aa0bafb10649ce9d9",
       "version_major": 2,
       "version_minor": 0
      },
      "text/plain": [
       "Canvas(toolbar=Toolbar(toolitems=[('Home', 'Reset original view', 'home', 'home'), ('Back', 'Back to previous …"
      ]
     },
     "metadata": {},
     "output_type": "display_data"
    }
   ],
   "source": [
    "# blur image, find threshold and apply it\n",
    "print(\"First round of blurring.....\")\n",
    "img_blurry = gaussian(img_erased, sigma = 20)\n",
    "thr_blurry = threshold_multiotsu(img_blurry, classes=4)[0]  # Fairly conservative with 4 classes\n",
    "img_thr_blurry = img_blurry > thr_blurry\n",
    "# fill holes\n",
    "img_thr_blurry = ndi.binary_fill_holes(img_thr_blurry)\n",
    "\n",
    "# plotting the mask\n",
    "fig, axes = plt.subplots(1,2, figsize=(8,4))\n",
    "ax = axes.ravel()\n",
    "ax[0].imshow(img_avg)\n",
    "ax[1].imshow(img_thr_blurry)\n",
    "[ax[i].set_axis_off() for i in range(len(ax))]\n",
    "plt.show()"
   ]
  },
  {
   "cell_type": "markdown",
   "metadata": {},
   "source": [
    "The problem with this mask is that due to the blurring, the faint edges of the organoid no longer remain after the thresholding. In order to combat this, the mask can be \"grown\" outwards by performing another round of blurring and selecting a low threshold. There may or may not be more straightforward and efficient ways to do this but this does the job just fine. "
   ]
  },
  {
   "cell_type": "code",
   "execution_count": 9,
   "metadata": {},
   "outputs": [
    {
     "data": {
      "application/vnd.jupyter.widget-view+json": {
       "model_id": "6a1b34cd04684c29b96e24f3209860b0",
       "version_major": 2,
       "version_minor": 0
      },
      "text/plain": [
       "Canvas(toolbar=Toolbar(toolitems=[('Home', 'Reset original view', 'home', 'home'), ('Back', 'Back to previous …"
      ]
     },
     "metadata": {},
     "output_type": "display_data"
    }
   ],
   "source": [
    "# blur the thrresholded image again to increase the size of the object\n",
    "img_double_blurry = gaussian(img_thr_blurry, sigma = 50)\n",
    "thr_double_blurry = 0.1\n",
    "img_thr_double_blurry = img_double_blurry > thr_double_blurry\n",
    "\n",
    "# Comparing blurred to double blurred\n",
    "fig, axes = plt.subplots(1, 3, figsize=(9,3))\n",
    "ax = axes.ravel()\n",
    "ax[0].set_title(\"img_thr_blurry\")\n",
    "ax[0].imshow(img_thr_blurry)\n",
    "ax[0].set_axis_off()\n",
    "ax[1].set_title(\"img_double_blurry\")\n",
    "ax[1].imshow(img_double_blurry)\n",
    "ax[1].set_axis_off()\n",
    "ax[2].set_title(\"Difference\")\n",
    "ax[2].imshow(img_thr_double_blurry ^ img_thr_blurry)\n",
    "ax[2].set_axis_off()"
   ]
  },
  {
   "cell_type": "markdown",
   "metadata": {},
   "source": [
    "While we can now assume that the entire organoid is included in the mask, we are still faced with a problem on the edges. Due to the blurring, the edge of our organoid mask is extremely smooth which is not at all what the real organoid looks like. So, what we can do now is apply a thresholed to the unblurred image to capture the shape of the edges and then combine the two masks to get what we want. This is done by `threshold_multiotsu()` with 5 classes and taking the lowest value. The number of classes here is rather arbitrary and what I decided to pick after playing around with it a little."
   ]
  },
  {
   "cell_type": "code",
   "execution_count": 10,
   "metadata": {},
   "outputs": [
    {
     "data": {
      "application/vnd.jupyter.widget-view+json": {
       "model_id": "42be5a9925e6446a9a463bea00fe1a41",
       "version_major": 2,
       "version_minor": 0
      },
      "text/plain": [
       "Canvas(toolbar=Toolbar(toolitems=[('Home', 'Reset original view', 'home', 'home'), ('Back', 'Back to previous …"
      ]
     },
     "metadata": {},
     "output_type": "display_data"
    }
   ],
   "source": [
    "threshold = threshold_multiotsu(img_erased, classes=5)[0]\n",
    "img_thr_sharp = (img_erased >= threshold)\n",
    "fig, ax = plt.subplots()\n",
    "ax.imshow(img_thr_sharp)"
   ]
  },
  {
   "cell_type": "code",
   "execution_count": 30,
   "metadata": {},
   "outputs": [
    {
     "data": {
      "application/vnd.jupyter.widget-view+json": {
       "model_id": "a0d5f09bfcde4f5ca4f036214fa781ab",
       "version_major": 2,
       "version_minor": 0
      },
      "text/plain": [
       "Canvas(toolbar=Toolbar(toolitems=[('Home', 'Reset original view', 'home', 'home'), ('Back', 'Back to previous …"
      ]
     },
     "metadata": {},
     "output_type": "display_data"
    }
   ],
   "source": [
    "# Create final mask by taking the intersection of the sharp and blurry masks\n",
    "img_mask = img_thr_sharp * img_thr_double_blurry\n",
    "# fill holes again for good measure\n",
    "img_mask = ndi.binary_fill_holes(img_mask)\n",
    "# remove artefacts\n",
    "img_mask = remove_small_objects(img_mask, min_size=100_000)\n",
    "print(\"Done\")\n",
    "\n",
    "fig, ax = plt.subplots(1, 4, figsize=(12,3))\n",
    "ax[0].imshow(img_thr_double_blurry)\n",
    "ax[0].set_title(\"Blurry mask\")\n",
    "ax[1].imshow(img_thr_sharp)\n",
    "ax[1].set_title(\"'Sharp' mask\")\n",
    "ax[2].imshow(img_mask)\n",
    "ax[2].set_title(\"Final mask\")\n",
    "ax[3].imshow(img_avg)\n",
    "ax[3].set_title(\"Average image\")\n",
    "[ax[i].set_axis_off() for i in range(len(ax))]\n",
    "plt.show()"
   ]
  },
  {
   "cell_type": "markdown",
   "metadata": {},
   "source": [
    "Now all that remains is to save the mask. Since we're dealing with binary images it makes sense to save them as png rather than tiff files because png can compress them a lot without losing information. For a unit8 image, chosing png reduces the file size from > 100 MB to around 100 KB. Both file formats, however, don't support a boolean data type, so it needs to be converted to e.g. uint8 which can be done by using the `img_as_uint()` function from skimage. When loading the image back into memory, it can be converted back into a boolean data type by using `img_as_bool()`."
   ]
  },
  {
   "cell_type": "code",
   "execution_count": 21,
   "metadata": {},
   "outputs": [
    {
     "data": {
      "text/plain": [
       "dtype('bool')"
      ]
     },
     "execution_count": 21,
     "metadata": {},
     "output_type": "execute_result"
    }
   ],
   "source": [
    "img_mask.dtype"
   ]
  },
  {
   "cell_type": "code",
   "execution_count": 22,
   "metadata": {},
   "outputs": [],
   "source": [
    "path_output = Path(r\"/links/groups/treutlein/USERS/pascal_noser/plate14_results/masks/version01\")\n",
    "out_file = path_output/(point+\"_mask.png\")\n",
    "io.imsave(str(out_file), img_as_uint(img_mask))"
   ]
  },
  {
   "cell_type": "code",
   "execution_count": 28,
   "metadata": {},
   "outputs": [
    {
     "name": "stdout",
     "output_type": "stream",
     "text": [
      "Shape: (7749, 7746)\n",
      "Number of non-identical pixels: 0\n"
     ]
    }
   ],
   "source": [
    "test_img = io.imread(out_file)\n",
    "# Check if shape or intensities changed\n",
    "print(\"Shape:\",test_img.shape)\n",
    "print(\"Number of non-identical pixels:\", sum(sum(img_as_bool(test_img) != img_mask)))"
   ]
  }
 ],
 "metadata": {
  "kernelspec": {
   "display_name": "Python [conda env:env_skimage]",
   "language": "python",
   "name": "conda-env-env_skimage-py"
  },
  "language_info": {
   "codemirror_mode": {
    "name": "ipython",
    "version": 3
   },
   "file_extension": ".py",
   "mimetype": "text/x-python",
   "name": "python",
   "nbconvert_exporter": "python",
   "pygments_lexer": "ipython3",
   "version": "3.7.7"
  }
 },
 "nbformat": 4,
 "nbformat_minor": 4
}
