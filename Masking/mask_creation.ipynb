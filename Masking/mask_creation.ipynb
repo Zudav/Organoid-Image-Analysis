{
 "cells": [
  {
   "cell_type": "markdown",
   "metadata": {},
   "source": [
    "This notebook is used to create masks for the organoids such that surrounding tissue can be excluded. For a more detailed explanation of how it works see the \"tutorial_mask_creation_v2.ipynb\" notebook."
   ]
  },
  {
   "cell_type": "code",
   "execution_count": 1,
   "metadata": {},
   "outputs": [],
   "source": [
    "%matplotlib widget\n",
    "\n",
    "import matplotlib.pyplot as plt\n",
    "import ipywidgets as widgets\n",
    "import numpy as np\n",
    "from skimage import io\n",
    "from skimage.draw import polygon as sk_polygon       # Changed name to avoid confusion\n",
    "from matplotlib.patches import Polygon as mpl_polygon  # Changed name to avoid confusion\n",
    "from pathlib import Path\n",
    "from skimage.exposure import rescale_intensity\n",
    "from skimage.filters import (gaussian, threshold_multiotsu)\n",
    "from skimage.morphology import remove_small_objects\n",
    "from scipy import ndimage as ndi\n",
    "from skimage import (img_as_uint, img_as_bool)"
   ]
  },
  {
   "cell_type": "code",
   "execution_count": 2,
   "metadata": {},
   "outputs": [],
   "source": [
    "class PolyPicker:\n",
    "    def __init__(self, ax, orig_img):\n",
    "        self.ax = ax\n",
    "        line = self.ax.plot([], [], color=\"DarkOrange\")[0]  # empty line, [0] necessary because ax.plot() returns a list with 1 element\n",
    "        self.line = line\n",
    "        \n",
    "        # Create empty lists that will be filled with user input\n",
    "        self.xs = []  # filled with x coordinates\n",
    "        self.ys = []  # filled with y coordinates\n",
    "        self.coords = []  # filled with coordinate tuples\n",
    "        self.polygons = []  # filled with lists of coordinate tuples that define all polygons\n",
    "        \n",
    "        # Save input mask\n",
    "        self.orig_img = orig_img\n",
    "        \n",
    "        # Connections to key and button presses\n",
    "        self.cid_button = line.figure.canvas.mpl_connect('button_press_event', self.button_press)\n",
    "        self.cid_key = line.figure.canvas.mpl_connect('key_press_event', self.key_press)\n",
    "\n",
    "        \n",
    "    def key_press(self,event):\n",
    "        # Save name of the key pressed\n",
    "        key_name = event.key\n",
    "            \n",
    "        if key_name == \"u\":  # Undo\n",
    "            with output:\n",
    "                print(\"Undo\")\n",
    "            # Remove last entry\n",
    "            del self.xs[-1]\n",
    "            del self.ys[-1]\n",
    "            del self.coords[-1]\n",
    "            # Redraw line\n",
    "            self.line.set_data(self.xs, self.ys)\n",
    "            self.line.figure.canvas.draw()\n",
    "        \n",
    "        if key_name == \"a\":  # Apply\n",
    "            with output:\n",
    "                print(\"Finished with {} polygons\".format(len(self.polygons)))\n",
    "                print(\"Creating new image...\")\n",
    "        \n",
    "            # Create the filter mask\n",
    "            self.filter_mask = self.create_filter_mask()\n",
    "\n",
    "            \n",
    "            # Create new mask by applying filter mask to old mask\n",
    "            self.new_img = self.orig_img * self.filter_mask\n",
    "                        \n",
    "            with output:\n",
    "                print(\"New image created successfully\")\n",
    "            \n",
    "            # Stop gathering input\n",
    "            self.line.figure.canvas.mpl_disconnect(self.cid_button)\n",
    "            self.line.figure.canvas.mpl_disconnect(self.cid_key)\n",
    "\n",
    "            \n",
    "    def button_press(self, event):\n",
    "        # Prevent error if user clicks outside of image\n",
    "        if event.inaxes!=self.line.axes: return\n",
    "        # Save name of mouse button clicked\n",
    "        button_name = event.button.name\n",
    "        \n",
    "        if button_name == \"LEFT\":\n",
    "            ix = event.xdata\n",
    "            iy = event.ydata\n",
    "            #with output:  # Print coordinates\n",
    "            #    print('x = {}, y = {}'.format(int(ix), int(iy)))\n",
    "            \n",
    "            # Append coordinates to lists and redraw line\n",
    "            self.xs.append(ix)\n",
    "            self.ys.append(iy)\n",
    "            self.coords.append((ix, iy))\n",
    "            self.line.set_data(self.xs, self.ys)\n",
    "            self.line.figure.canvas.draw()\n",
    "            \n",
    "        elif button_name == \"RIGHT\":\n",
    "            with output:\n",
    "                print(\"Completed polygon with {} corners\".format(len(self.xs)))\n",
    "            # Add coordinates of finished polygon to the polygon list\n",
    "            self.polygons.append(self.coords)\n",
    "            # Draw polygon where the line was\n",
    "            self.ax.add_patch(mpl_polygon(self.coords, color=\"DarkOrange\", alpha=0.3))\n",
    "            # Reset coords and xs,ys\n",
    "            self.xs = []\n",
    "            self.ys = []\n",
    "            self.coords = []\n",
    "            # Reset line\n",
    "            self.line.set_data(self.xs, self.ys)\n",
    "            self.line.figure.canvas.draw()\n",
    "        \n",
    "        \n",
    "    def create_filter_mask(self):\n",
    "        # Create new array in correct size\n",
    "        filter_mask = np.zeros(self.orig_img.shape, dtype=np.uint8)\n",
    "        # Iterate over all objects in the polygons list\n",
    "        for shape in self.polygons:\n",
    "            # Get x and y coordinates for current polygon as separate lists\n",
    "            xx, yy = [[i for i,j in shape], [j for i,j in shape]]\n",
    "            # Get coordinates of all points within polygon\n",
    "            rr, cc = sk_polygon(yy, xx)\n",
    "            # Set value to 0\n",
    "            filter_mask[rr, cc] = 1\n",
    "        return filter_mask"
   ]
  },
  {
   "cell_type": "code",
   "execution_count": 3,
   "metadata": {},
   "outputs": [],
   "source": [
    "def rescale_image(img, min_quant=0, max_quant=0.98): \n",
    "    img = img * 1.0 # turn type to float before rescaling\n",
    "    min_val = np.quantile(img, min_quant)\n",
    "    max_val = np.quantile(img, max_quant)\n",
    "    img = rescale_intensity(img, in_range=(min_val, max_val))\n",
    "    return img"
   ]
  },
  {
   "cell_type": "code",
   "execution_count": 4,
   "metadata": {},
   "outputs": [],
   "source": [
    "# Create list with all the points\n",
    "points = [\"Point000\"+str(x) for x in range(10)] + [\"Point00\"+str(x) for x in range(10, 74)]\n",
    "\n",
    "# Specify \"special\" points and corresponding missing cycles\n",
    "points_special = {\n",
    "    \"Point0000\": [\"cycle15\"],\n",
    "    \"Point0001\": [\"cycle15\"],\n",
    "    \"Point0042\": [\"cycle18\"],\n",
    "    \"Point0065\": [\"cycle0\", \"cycle1\", \"cycle2\", \"cycle5_0\"],\n",
    "    \"Point0066\": [\"cycle0\", \"cycle1\", \"cycle2\"],\n",
    "    \"Point0067\": [\"cycle0\", \"cycle1\"],\n",
    "    \"Point0070\": [\"cycle1\"],\n",
    "    \"Point0071\": [\"cycle1\"],\n",
    "    \"Point0072\": [\"cycle1\"],\n",
    "    \"Point0073\": [\"cycle1\", \"cycle16\", \"cycle17\", \"cycle18\", \"cycle19\", \n",
    "                  \"cycle20\", \"cycle20_0\", \"cycle21\", \"cycle1_2\", \"cycle1_3\"]\n",
    "}\n",
    "\n",
    "# Points excluded from analysis\n",
    "points_excluded = [\"Point0047\", \"Point0052\", \"Point0053\", \"Point0058\", \"Point0059\", \"Point0062\", \"Point0063\",\n",
    "             \"Point0064\", \"Point0068\", \"Point0069\"]\n",
    "\n",
    "# For now just remove Points 0000 and 0001 because they are missing cycle15\n",
    "del points[:2]\n",
    "\n",
    "# Create iterator variable. Initialise at -1 because it will be increased to 0 in the next lines\n",
    "iterator = -1"
   ]
  },
  {
   "cell_type": "markdown",
   "metadata": {},
   "source": [
    "Rather than loading all stains it's probably sufficient to only load a Hoechst channel and a membrane stain, which will save a lot of time. Due to the AB order permutation, this membrane stain isn't always in the same cycle. Therefore, we just load both of those cycles. Will take slightly longer to load the images but won't have a big impact."
   ]
  },
  {
   "cell_type": "code",
   "execution_count": 5,
   "metadata": {},
   "outputs": [],
   "source": [
    "# Specify cycles and stains\n",
    "img_dict = {\n",
    "    \"cycle1\": [2],  # Hoechst stain\n",
    "    \"cycle15\": [1],  # Membrane stain (normal order)\n",
    "    \"cycle18\": [1]  # Membrane stain (permuted order)\n",
    "}"
   ]
  },
  {
   "cell_type": "markdown",
   "metadata": {},
   "source": [
    "---"
   ]
  },
  {
   "cell_type": "markdown",
   "metadata": {},
   "source": [
    "### Instructions:\n",
    "left-click: Draw corner  \n",
    "right-click: Finalise polygon  \n",
    "u: undo   \n",
    "o: rectangle zoom tool  \n",
    "c: back to previous view  \n",
    "a: apply mask and finish drawing "
   ]
  },
  {
   "cell_type": "code",
   "execution_count": 12,
   "metadata": {},
   "outputs": [
    {
     "name": "stdout",
     "output_type": "stream",
     "text": [
      "Point0003\n"
     ]
    }
   ],
   "source": [
    "# Increment iterator. Print if cycles are missing (and manually adjust below). Skip point if in excluded list\n",
    "while True:    \n",
    "    iterator += 1\n",
    "    point = points[iterator]\n",
    "    print(point)\n",
    "    if point in points_special.keys():\n",
    "        print(10*\"Missing cycles: {}\\n\".format(points_special[point]))\n",
    "        print(\"\\nMaybe cycles/stains need to be changed for this point!\")\n",
    "        break\n",
    "    elif point in points_excluded:\n",
    "        print(\"Skipping excluded point\")\n",
    "    else:\n",
    "        break\n",
    "\n",
    "# Change paths and file name once current point is defined\n",
    "#point = \"Point0043\"\n",
    "experiment_name = \"tr_af_bs70_mask\"\n",
    "path_input = Path(r\"/links/groups/treutlein/USERS/pascal_noser/plate14_results/alignment/\")/experiment_name/point\n",
    "#path_input = Path(r\"/links/groups/treutlein/DATA/imaging/PW/4i/plate14/aligned\")/point\n",
    "path_output = Path(r\"/links/groups/treutlein/USERS/pascal_noser/plate14_results/masks/\")/experiment_name\n",
    "out_file = path_output/(point+\"_mask.png\")"
   ]
  },
  {
   "cell_type": "code",
   "execution_count": 13,
   "metadata": {},
   "outputs": [],
   "source": [
    "# Specify cycles and stains\n",
    "img_dict = {\n",
    "    \"cycle1\": [2],  # Hoechst stain\n",
    "    \"cycle15\": [1],  # Membrane stain (normal order)\n",
    "    \"cycle18\": [1]  # Membrane stain (permuted order)\n",
    "}"
   ]
  },
  {
   "cell_type": "code",
   "execution_count": 14,
   "metadata": {},
   "outputs": [
    {
     "name": "stdout",
     "output_type": "stream",
     "text": [
      "cycle1\n",
      "cycle15\n",
      "Array shape: (7749, 7746, 2)\n"
     ]
    },
    {
     "data": {
      "application/vnd.jupyter.widget-view+json": {
       "model_id": "e4ddf4af70414e9fb72bdd7bd2791d36",
       "version_major": 2,
       "version_minor": 0
      },
      "text/plain": [
       "Canvas(toolbar=Toolbar(toolitems=[('Home', 'Reset original view', 'home', 'home'), ('Back', 'Back to previous …"
      ]
     },
     "metadata": {},
     "output_type": "display_data"
    },
    {
     "data": {
      "application/vnd.jupyter.widget-view+json": {
       "model_id": "8c61b9718e8b4e0f8d608f510a02fb36",
       "version_major": 2,
       "version_minor": 0
      },
      "text/plain": [
       "Output()"
      ]
     },
     "metadata": {},
     "output_type": "display_data"
    }
   ],
   "source": [
    "images = []\n",
    "for cycle in img_dict:\n",
    "    print(cycle)\n",
    "    filename = point+\"_\"+cycle+\".tif\"\n",
    "    img_path = path_input/cycle/filename\n",
    "    img = io.imread(str(img_path))\n",
    "    # Only keep relevant channels\n",
    "    relev_chans = img_dict[cycle]\n",
    "    img = img[...,relev_chans]\n",
    "    # Rescale intensities\n",
    "    img_rescaled = np.zeros(img.shape)\n",
    "    for channel in range(len(relev_chans)):\n",
    "        channel_rescaled = rescale_image(img[..., channel])\n",
    "        img_rescaled[..., channel] = channel_rescaled\n",
    "    # Append to list\n",
    "    images.append(img_rescaled)\n",
    "\n",
    "\n",
    "# Stack all images into a single array with their colour channels along the third axis\n",
    "rescaled_array = np.dstack(images)\n",
    "print(\"Array shape:\", np.shape(rescaled_array))\n",
    "\n",
    "plt.close('all')\n",
    "# take average of rescaled array\n",
    "img_avg = np.average(rescaled_array, axis=2)\n",
    "# Show image\n",
    "fig, ax = plt.subplots(figsize=(7,7))\n",
    "ax.set_title(point)\n",
    "ax.imshow(img_avg)\n",
    "\n",
    "# Create eraser object to manually remove unwanted areas\n",
    "picker = PolyPicker(ax, img_avg)\n",
    "\n",
    "# Output widget needed to display print statements\n",
    "output = widgets.Output()\n",
    "display(output)"
   ]
  },
  {
   "cell_type": "code",
   "execution_count": 15,
   "metadata": {},
   "outputs": [
    {
     "name": "stdout",
     "output_type": "stream",
     "text": [
      "First round of blurring.....\n",
      "Second round of blurring.....\n",
      "Creating final mask...\n",
      "Done\n"
     ]
    },
    {
     "data": {
      "application/vnd.jupyter.widget-view+json": {
       "model_id": "d852d1572f96481f8d58a51f3c38da2d",
       "version_major": 2,
       "version_minor": 0
      },
      "text/plain": [
       "Canvas(toolbar=Toolbar(toolitems=[('Home', 'Reset original view', 'home', 'home'), ('Back', 'Back to previous …"
      ]
     },
     "metadata": {},
     "output_type": "display_data"
    }
   ],
   "source": [
    "# get newly created image\n",
    "img_erased = picker.new_img\n",
    "# blur image, find threshold and apply it\n",
    "print(\"First round of blurring.....\")\n",
    "img_blurry = gaussian(img_erased, sigma = 20)\n",
    "thr_blurry = threshold_multiotsu(img_blurry, classes=4)[0]  # Fairly conservative with 4 classes\n",
    "img_thr_blurry = img_blurry > thr_blurry\n",
    "# fill holes\n",
    "img_thr_blurry = ndi.binary_fill_holes(img_thr_blurry)\n",
    "\n",
    "# blur the thrresholded image again to increase the size of the object\n",
    "print(\"Second round of blurring.....\")\n",
    "img_double_blurry = gaussian(img_thr_blurry, sigma = 50)\n",
    "thr_double_blurry = 0.1\n",
    "img_thr_double_blurry = img_double_blurry > thr_double_blurry\n",
    "\n",
    "# Create \"sharp\" image to get edges correctly\n",
    "print(\"Creating final mask...\")\n",
    "threshold = threshold_multiotsu(img_erased, classes=5)[0]\n",
    "img_thr_sharp = (img_erased >= threshold)\n",
    "# Create final mask by taking the intersection of the sharp and blurry masks\n",
    "img_mask = img_thr_sharp * img_thr_double_blurry\n",
    "# fill holes again for good measure\n",
    "img_mask = ndi.binary_fill_holes(img_mask)\n",
    "# remove artefacts\n",
    "img_mask = remove_small_objects(img_mask, min_size=150_000)\n",
    "print(\"Done\")\n",
    "\n",
    "# Compare original image to masked image before saving\n",
    "fig, ax = plt.subplots(1, 2, figsize=(12,6))\n",
    "ax[0].imshow(img_avg)\n",
    "ax[0].set_title(\"Original image\")\n",
    "ax[1].imshow(img_avg * img_mask)\n",
    "ax[1].set_title(\"Masked image\")\n",
    "[ax[i].set_axis_off() for i in range(len(ax))]\n",
    "plt.tight_layout\n",
    "plt.show()"
   ]
  },
  {
   "cell_type": "code",
   "execution_count": 10,
   "metadata": {
    "jupyter": {
     "source_hidden": true
    }
   },
   "outputs": [
    {
     "data": {
      "application/vnd.jupyter.widget-view+json": {
       "model_id": "890292d4446247edb4f012cf8b0dcf05",
       "version_major": 2,
       "version_minor": 0
      },
      "text/plain": [
       "Canvas(toolbar=Toolbar(toolitems=[('Home', 'Reset original view', 'home', 'home'), ('Back', 'Back to previous …"
      ]
     },
     "metadata": {},
     "output_type": "display_data"
    }
   ],
   "source": [
    "# Have a look at the mask directly\n",
    "fig,ax = plt.subplots(figsize=(4,4))\n",
    "ax.imshow(img_mask)\n",
    "ax.set_title(\"Final mask\")\n",
    "ax.set_axis_off()"
   ]
  },
  {
   "cell_type": "code",
   "execution_count": 16,
   "metadata": {},
   "outputs": [
    {
     "name": "stdout",
     "output_type": "stream",
     "text": [
      "Shape: (7749, 7746)\n",
      "Number of non-identical pixels: 0\n"
     ]
    }
   ],
   "source": [
    "# Save mask if everything seems okay\n",
    "io.imsave(str(out_file), img_as_uint(img_mask))\n",
    "\n",
    "# Load image back into memory and make sure it's identical to the mask\n",
    "test_img = img_as_bool(io.imread(str(out_file)))\n",
    "print(\"Shape:\",test_img.shape)\n",
    "print(\"Number of non-identical pixels:\", sum(sum(img_as_bool(test_img) != img_mask)))"
   ]
  }
 ],
 "metadata": {
  "kernelspec": {
   "display_name": "Python [conda env:env_skimage]",
   "language": "python",
   "name": "conda-env-env_skimage-py"
  },
  "language_info": {
   "codemirror_mode": {
    "name": "ipython",
    "version": 3
   },
   "file_extension": ".py",
   "mimetype": "text/x-python",
   "name": "python",
   "nbconvert_exporter": "python",
   "pygments_lexer": "ipython3",
   "version": "3.7.7"
  }
 },
 "nbformat": 4,
 "nbformat_minor": 4
}
